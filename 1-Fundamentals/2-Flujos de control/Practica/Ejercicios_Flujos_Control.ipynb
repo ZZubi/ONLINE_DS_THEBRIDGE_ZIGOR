{
 "cells": [
  {
   "cell_type": "markdown",
   "metadata": {},
   "source": [
    "![imagen](./img/ejercicios.png)"
   ]
  },
  {
   "cell_type": "markdown",
   "metadata": {},
   "source": [
    "# Ejercicios Flujos de control"
   ]
  },
  {
   "cell_type": "markdown",
   "metadata": {},
   "source": [
    "## Ejercicio 1\n",
    "Declara una variable numérica que será una hora cualquiera del día. Implementa la siguiente casuística:\n",
    "\n",
    "* Si es entre las 0 y las 8, print \"Durmiendo\"\n",
    "* Si es entre las 9 y las 18, print \"Trabajando\"\n",
    "* Si es entre las 19 y las 21, print \"Clase\"\n",
    "* Si es entre las 22 y las 24, print \"Descanso\"\n",
    "* En cualquier otro caso, print \"Transporte o error\""
   ]
  },
  {
   "cell_type": "code",
   "execution_count": 2,
   "metadata": {},
   "outputs": [
    {
     "name": "stdout",
     "output_type": "stream",
     "text": [
      "Trabajando\n"
     ]
    }
   ],
   "source": [
    "hora = 9\n",
    "\n",
    "if (hora >= 0 and hora <=8):\n",
    "    print(\"Durmiendo\")\n",
    "elif (hora >= 9 and hora <=18):\n",
    "    print(\"Trabajando\")\n",
    "elif (hora >= 19  and hora <= 21):\n",
    "    print(\"Clase\")\n",
    "elif (hora >= 22 and hora <= 24):\n",
    "    print(\"Descanso\")\n",
    "else:\n",
    "    print(\"Transporte o error\")"
   ]
  },
  {
   "cell_type": "markdown",
   "metadata": {},
   "source": [
    "## Ejercicio 2\n",
    "En este ejercicio vamos a implementar un calculador de precios de casas muy sencillo. Tenemos las siguientes variables:\n",
    "\n",
    "> superficie\n",
    ">\n",
    "> distrito\n",
    "\n",
    "Implementa la siguiente casuística:\n",
    "\n",
    "1. Si el distrito es \"Moncloa\" o \"Centro\", y además la superficie es superior a 100 metros cuadrados, el precio de la casa es de 1000\n",
    "2. Si el distrito es \"Salamanca\", y además la superficie de la casa es al menos de 150 metros, el precio de la casa es de 1500\n",
    "3. Si el distrito no es \"Retiro\" y la superficie está entre 60 y 80 metros, el precio es de 600\n",
    "4. En cualquier otro caso, el precio será de 0"
   ]
  },
  {
   "cell_type": "code",
   "execution_count": 5,
   "metadata": {},
   "outputs": [
    {
     "name": "stdout",
     "output_type": "stream",
     "text": [
      "El valor de una casa de 106 metros cuadrados en el distrito 'Salamanca' es de 0 €\n"
     ]
    }
   ],
   "source": [
    "import random\n",
    "\n",
    "distritos = [\"Moncloa\", \"Centro\", \"Salamanca\", \"Retiro\", \"desconocido\"]\n",
    "superficies = [45,60, 65, 69, 80, 86, 99, 100, 106, 150, 168, 200]\n",
    "\n",
    "distrito = random.choice(distritos)\n",
    "superficie = random.choice(superficies)\n",
    "precio = 0\n",
    "\n",
    "match distrito:\n",
    "    case \"Moncloa\" | \"Centro\":\n",
    "        precio = 1000 if superficie > 100 else 0\n",
    "    case \"Salamanca\":\n",
    "        precio = 1500 if superficie >= 150 else 0\n",
    "\n",
    "if distrito != \"Retiro\" and superficie >= 60 and superficie <= 80:\n",
    "    precio = 600\n",
    "\n",
    "print(f\"El valor de una casa de {superficie} metros cuadrados en el distrito '{distrito}' es de {precio} €\")"
   ]
  },
  {
   "cell_type": "markdown",
   "metadata": {},
   "source": [
    "## Ejercicio 3\n",
    "En este ejercicio vamos a realizar un programa muy parecido. Para este caso queremos que se cumplan las siguientes condiciones:\n",
    "\n",
    "1. Primero se compruebe si el distrito es \"Retiro\". Si es asá, que imprima \"Distrito Retiro\", y si no, \"Otro distrito\"\n",
    "2. Si el distrito es \"Retiro\", comprueba si la superficie es mayor de 100 metros cuadrados. En tal caso, que imprima un precio de 1000, y si no, de 500.\n",
    "\n",
    "Prueba a usar `ifs` anidados"
   ]
  },
  {
   "cell_type": "code",
   "execution_count": null,
   "metadata": {},
   "outputs": [
    {
     "name": "stdout",
     "output_type": "stream",
     "text": [
      "Showing output for distrito 'desconocido' / superficie: 69 metros cuadrados:\n",
      "-----------------------------------------------------------------------------------------\n",
      "Otro distrito\n"
     ]
    }
   ],
   "source": [
    "import random\n",
    "\n",
    "distritos = [\"Moncloa\", \"Centro\", \"Salamanca\", \"Retiro\", \"desconocido\"]\n",
    "superficies = [45,60, 65, 69, 80, 86, 99, 100, 106, 150, 168, 200]\n",
    "\n",
    "distrito = random.choice(distritos)\n",
    "superficie = random.choice(superficies)\n",
    "\n",
    "print(f\"Showing output for distrito '{distrito}' / superficie: {superficie} metros cuadrados:\")\n",
    "print(\"-----------------------------------------------------------------------------------------\")\n",
    "\n",
    "if (distrito == \"Retiro\"):\n",
    "    print(\"Distrito Retiro\")\n",
    "\n",
    "    if superficie > 100:\n",
    "        print(\"Precio: 1000\")\n",
    "    else:\n",
    "        print(\"Precio: 500\")\n",
    "else:\n",
    "    print(\"Otro distrito\")\n",
    "        "
   ]
  },
  {
   "cell_type": "markdown",
   "metadata": {},
   "source": [
    "## Ejercicio 4\n",
    "Escribe un programa que tenga dos variables: un numero, y una lista numérica. El programa debe recorrer la lista e imprimir por pantalla cada elemento de la lista multiplicado por el número"
   ]
  },
  {
   "cell_type": "code",
   "execution_count": 25,
   "metadata": {},
   "outputs": [
    {
     "name": "stdout",
     "output_type": "stream",
     "text": [
      "3\n",
      "15\n",
      "9\n",
      "198\n",
      "126\n",
      "12\n",
      "24\n"
     ]
    }
   ],
   "source": [
    "multiplicador = 3\n",
    "lista_numerica = [1, 5, 3, 66, 42, 4, 8]\n",
    "\n",
    "lista_multiplicada = [x * multiplicador for x in lista_numerica]\n",
    "\n",
    "for elemento in lista_multiplicada:\n",
    "    print(elemento)"
   ]
  },
  {
   "cell_type": "markdown",
   "metadata": {},
   "source": [
    "## Ejercicio 5\n",
    "Imprime por pantalla cada número del -10 al -1. En ese orden. Consulta [la documentación](https://www.w3schools.com/python/ref_func_range.asp) de `range`"
   ]
  },
  {
   "cell_type": "code",
   "execution_count": 28,
   "metadata": {},
   "outputs": [
    {
     "name": "stdout",
     "output_type": "stream",
     "text": [
      "-10\n",
      "-9\n",
      "-8\n",
      "-7\n",
      "-6\n",
      "-5\n",
      "-4\n",
      "-3\n",
      "-2\n",
      "-1\n"
     ]
    }
   ],
   "source": [
    "for elemento in range(-10, 0): ## 0 instead of 1 so we ensure \"-1\" is printed; third argument \"step\" is omitted because it is 1 by default\n",
    "    print(elemento)"
   ]
  },
  {
   "cell_type": "markdown",
   "metadata": {},
   "source": [
    "## Ejercicio 6\n",
    "Dada la siguiente lista:\n",
    "\n",
    "> list1 = [12, 15, 32, 42, 55, 75, 122, 132, 150, 180, 200]\n",
    "\n",
    "Implementa un programa que los recorra e imprima por pantalla todos los divisibles por 5. Si nos encontramos con alguno que sea mayor que 150, detener el bucle."
   ]
  },
  {
   "cell_type": "code",
   "execution_count": 29,
   "metadata": {},
   "outputs": [
    {
     "name": "stdout",
     "output_type": "stream",
     "text": [
      "15\n",
      "55\n",
      "75\n",
      "150\n",
      "180\n"
     ]
    }
   ],
   "source": [
    "list1 = [12, 15, 32, 42, 55, 75, 122, 132, 150, 180, 200]\n",
    "\n",
    "for valor in list1:\n",
    "    if valor % 5 == 0:\n",
    "        print(valor)\n",
    "\n",
    "    if valor > 150:\n",
    "        break"
   ]
  },
  {
   "attachments": {},
   "cell_type": "markdown",
   "metadata": {},
   "source": [
    "## Ejercicio 7\n",
    "Escribe un programa en Python que imprima por pantalla todos los números que cumplan que sean divisibles por 5 y divisibles por 7, dentro del rango de valores (150, 350)."
   ]
  },
  {
   "cell_type": "code",
   "execution_count": 36,
   "metadata": {},
   "outputs": [
    {
     "name": "stdout",
     "output_type": "stream",
     "text": [
      "Lista de valores: [150, 151, 152, 153, 154, 155, 156, 157, 158, 159, 160, 161, 162, 163, 164, 165, 166, 167, 168, 169, 170, 171, 172, 173, 174, 175, 176, 177, 178, 179, 180, 181, 182, 183, 184, 185, 186, 187, 188, 189, 190, 191, 192, 193, 194, 195, 196, 197, 198, 199, 200, 201, 202, 203, 204, 205, 206, 207, 208, 209, 210, 211, 212, 213, 214, 215, 216, 217, 218, 219, 220, 221, 222, 223, 224, 225, 226, 227, 228, 229, 230, 231, 232, 233, 234, 235, 236, 237, 238, 239, 240, 241, 242, 243, 244, 245, 246, 247, 248, 249, 250, 251, 252, 253, 254, 255, 256, 257, 258, 259, 260, 261, 262, 263, 264, 265, 266, 267, 268, 269, 270, 271, 272, 273, 274, 275, 276, 277, 278, 279, 280, 281, 282, 283, 284, 285, 286, 287, 288, 289, 290, 291, 292, 293, 294, 295, 296, 297, 298, 299, 300, 301, 302, 303, 304, 305, 306, 307, 308, 309, 310, 311, 312, 313, 314, 315, 316, 317, 318, 319, 320, 321, 322, 323, 324, 325, 326, 327, 328, 329, 330, 331, 332, 333, 334, 335, 336, 337, 338, 339, 340, 341, 342, 343, 344, 345, 346, 347, 348, 349, 350]\n",
      "Lista de valores divisibles por 5 y 7: [175, 210, 245, 280, 315, 350]\n"
     ]
    }
   ],
   "source": [
    "lista_de_valores = list(range(150, 351))\n",
    "print(\"Lista de valores:\", lista_de_valores)\n",
    "\n",
    "lista_de_valores_divisibles = [x for x in lista_de_valores if x % 5 == 0 and x % 7 == 0]\n",
    "print(\"Lista de valores divisibles por 5 y 7:\", lista_de_valores_divisibles)\n",
    "\n",
    "\n"
   ]
  },
  {
   "cell_type": "markdown",
   "metadata": {},
   "source": [
    "## Ejercicio 8\n",
    "Implementa un programa que imprima por pantalla el siguiente patrón\n",
    "\n",
    "5 4 3 2 1 \n",
    "\n",
    "4 3 2 1 \n",
    "\n",
    "3 2 1 \n",
    "\n",
    "2 1 \n",
    "\n",
    "1\n",
    "\n",
    "NOTA: NO hay lineas en blanco entre una línea y otra."
   ]
  },
  {
   "cell_type": "code",
   "execution_count": 39,
   "metadata": {},
   "outputs": [
    {
     "name": "stdout",
     "output_type": "stream",
     "text": [
      "5 4 3 2 1\n",
      "4 3 2 1\n",
      "3 2 1\n",
      "2 1\n",
      "1\n"
     ]
    }
   ],
   "source": [
    "lista_de_valores = list(range(5, 0, -1))\n",
    "\n",
    "while len(lista_de_valores):\n",
    "    print(\" \".join(str(x) for x in lista_de_valores))\n",
    "    lista_de_valores.pop(0)"
   ]
  },
  {
   "cell_type": "markdown",
   "metadata": {},
   "source": [
    "## Ejercicio 9\n",
    "En este ejercicio vamos a crear un pequeño juego. Se trata de intentar adivinar un numero del 1 al 5. Tenemos dos intentos para acertar. Pasos a seguir:\n",
    "\n",
    "1. Ya viene implementado con la librería `random` cómo obtener un número aleatorio del 1 al 5\n",
    "2. Tendrás que declarar en una variable el numero de vidas, y mediante un bucle while, comprobar que todavia quedan vidas.\n",
    "3. Dentro del bucle, obtener el valor del usuario y comprobar si es ese el numero a adivinar. Si no, actualizar las vidas.\n",
    "4. Si acertamos, salimos del bucle e imprimimos por pantalla \"You win\". Y si perdemos también salimos del bucle, pero en este caso imprimimos por pantalla \"You lose\".\n",
    "\n",
    "TIP: te puede resultar útil usar la sentencia `else` cuando acabe el bucle `while`. Lo que haya dentro de ese `else` se ejecutará una vez acabe la ejecución del `while`. Lo podrás usar para cuando pierdas."
   ]
  },
  {
   "cell_type": "code",
   "execution_count": null,
   "metadata": {},
   "outputs": [
    {
     "name": "stdout",
     "output_type": "stream",
     "text": [
      "You lose\n"
     ]
    }
   ],
   "source": [
    "import random\n",
    "\n",
    "## 01\n",
    "numero_a_adivinar = random.randint(1,5)\n",
    "\n",
    "## 02\n",
    "numero_de_vidas = 2\n",
    "\n",
    "## 03 and 04\n",
    "while (numero_de_vidas > 0):\n",
    "    valor_usuario = input(\"Introduce el valor a adivinar:\")\n",
    "\n",
    "    if int(valor_usuario) == numero_a_adivinar:\n",
    "        print(\"You win\")\n",
    "        break\n",
    "\n",
    "    numero_de_vidas-=1\n",
    "else:\n",
    "    print(\"You lose\")"
   ]
  }
 ],
 "metadata": {
  "kernelspec": {
   "display_name": "Python 3 (ipykernel)",
   "language": "python",
   "name": "python3"
  },
  "language_info": {
   "codemirror_mode": {
    "name": "ipython",
    "version": 3
   },
   "file_extension": ".py",
   "mimetype": "text/x-python",
   "name": "python",
   "nbconvert_exporter": "python",
   "pygments_lexer": "ipython3",
   "version": "3.12.10"
  }
 },
 "nbformat": 4,
 "nbformat_minor": 4
}
