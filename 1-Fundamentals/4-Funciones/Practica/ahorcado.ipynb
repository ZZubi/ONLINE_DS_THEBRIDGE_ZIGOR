{
 "cells": [
  {
   "attachments": {},
   "cell_type": "markdown",
   "metadata": {},
   "source": [
    "## Juego del Ahorcado\n",
    "Desarrolla el juego del ahorcado en python. En cada turno irá mostrando por pantalla ```_ _ _ _ _``` las rayas bajas correspondientes al número de letras que tiene la palabra a adivinar. El usuario deberá insertar una letra y, si esa letra existe, se mostrará o mostrarán las letras acertadas ```S _ S _ _``` en sus posiciones correspondientes. \n",
    "\n",
    "Si falla, se mostrará el número de errores que lleva y, si lleva x errores, entonces se mostrará \"Fin del juego\"."
   ]
  },
  {
   "cell_type": "markdown",
   "metadata": {},
   "source": [
    "1. Inicializa el juego: declara una palabra a adivinar y muestra por pantalla la palabra oculta.\n"
   ]
  },
  {
   "cell_type": "markdown",
   "metadata": {},
   "source": [
    "\n",
    "```python\n",
    "_ _ _ _ _ _ _ _\n",
    "```"
   ]
  },
  {
   "cell_type": "markdown",
   "metadata": {},
   "source": [
    "2. Funcionamiento turnos: mediante un bucle genera el sistema de turnos donde el usuario introduce una letra y le va mostrando su progreso y sus vidas."
   ]
  },
  {
   "cell_type": "markdown",
   "metadata": {},
   "source": [
    "3. Desarrolla la finalización de la partida, tanto si gana como si pierde."
   ]
  },
  {
   "cell_type": "code",
   "execution_count": null,
   "metadata": {},
   "outputs": [],
   "source": []
  },
  {
   "cell_type": "markdown",
   "metadata": {},
   "source": [
    "4. Encapsula el juego en una función llamada ```jugar_ahorcado()``` con la palabra a adivinar y el número de vidas para seleccionar la dificultad como argumentos de entrada."
   ]
  },
  {
   "cell_type": "code",
   "execution_count": null,
   "metadata": {},
   "outputs": [],
   "source": []
  },
  {
   "cell_type": "code",
   "execution_count": null,
   "metadata": {},
   "outputs": [],
   "source": []
  },
  {
   "cell_type": "code",
   "execution_count": 15,
   "metadata": {},
   "outputs": [
    {
     "name": "stdout",
     "output_type": "stream",
     "text": [
      "--------------------------------------------------------------\n",
      "Palabra a adivinar: _ _ _ _ _ _ _\n",
      "Vidas restantes: 7\n",
      "Letras probadas: \n",
      "ENHORABUENA, la letra 'A' está presente! _ A _ A _ _ A\n",
      "--------------------------------------------------------------\n",
      "Palabra a adivinar: _ A _ A _ _ A\n",
      "Vidas restantes: 6\n",
      "Letras probadas: A\n",
      "ENHORABUENA, la letra 'A' está presente! _ A _ A _ _ A\n",
      "--------------------------------------------------------------\n",
      "Palabra a adivinar: _ A _ A _ _ A\n",
      "Vidas restantes: 5\n",
      "Letras probadas: A A\n",
      "ENHORABUENA, la letra 'B' está presente! _ A _ A B _ A\n",
      "--------------------------------------------------------------\n",
      "Palabra a adivinar: _ A _ A B _ A\n",
      "Vidas restantes: 4\n",
      "Letras probadas: A A B\n",
      "LO SENTIMOS, la letra 'C' no está presente\n",
      "Número de errores: 1\n",
      "--------------------------------------------------------------\n",
      "Palabra a adivinar: _ A _ A B _ A\n",
      "Vidas restantes: 3\n",
      "Letras probadas: A A B C\n",
      "ENHORABUENA, la letra 'P' está presente! P A _ A B _ A\n",
      "--------------------------------------------------------------\n",
      "Palabra a adivinar: P A _ A B _ A\n",
      "Vidas restantes: 2\n",
      "Letras probadas: A A B C P\n",
      "ENHORABUENA, la letra 'A' está presente! P A _ A B _ A\n",
      "--------------------------------------------------------------\n",
      "Palabra a adivinar: P A _ A B _ A\n",
      "Vidas restantes: 1\n",
      "Letras probadas: A A B C P A\n",
      "LO SENTIMOS, la letra 'J' no está presente\n",
      "Número de errores: 2\n",
      "--------------------------------------------------------------\n",
      "Palabra a adivinar: P A _ A B _ A\n",
      "Vidas restantes: 0\n",
      "Letras probadas: A A B C P A J\n",
      "LO SENTIMOS, la letra 'W' no está presente\n",
      "Número de errores: 3\n",
      "No te quedan vidas, FIN DEL JUEGO!!\n"
     ]
    }
   ],
   "source": [
    "def jugar_ahorcado(palabra_a_adivinar:str, numero_de_vidas:int):\n",
    "    palabra_oculta = \"_\" * len(palabra_a_adivinar)\n",
    "\n",
    "    palabra_a_adivinar = palabra_a_adivinar.upper() ## We will ignore the case and work always in capital letters\n",
    "    letras_intentadas = []\n",
    "    errores_count = 0\n",
    "\n",
    "    while numero_de_vidas > 0:\n",
    "        numero_de_vidas -= 1\n",
    "\n",
    "        print(\"--------------------------------------------------------------\")\n",
    "        print(\"Palabra a adivinar:\", \" \".join(palabra_oculta))\n",
    "        print(\"Vidas restantes:\", numero_de_vidas)\n",
    "        print(\"Letras probadas:\", \" \".join(letras_intentadas))\n",
    "\n",
    "        letra_introducida = input(\"Introduce una letra:\").upper()\n",
    "        letras_intentadas.append(letra_introducida)\n",
    "\n",
    "        if letra_introducida in palabra_a_adivinar:\n",
    "            for index,letra in enumerate(palabra_a_adivinar):\n",
    "                if letra == letra_introducida:\n",
    "                    palabra_oculta = insert_char_at_index(palabra_oculta, letra_introducida, index)\n",
    "            print(f\"ENHORABUENA, la letra '{letra_introducida}' está presente!\", \" \".join(palabra_oculta))\n",
    "        else:\n",
    "            errores_count += 1\n",
    "            print(f\"LO SENTIMOS, la letra '{letra_introducida}' no está presente\")\n",
    "            print(f\"Número de errores: {errores_count}\")\n",
    "\n",
    "        if \"_\" not in palabra_oculta:\n",
    "            print(f\"HAS GANADO!! La palabra a adivinar era '{palabra_oculta}'\")\n",
    "            break ## exit the loop\n",
    "\n",
    "    else:\n",
    "        print(\"No te quedan vidas, FIN DEL JUEGO!!\")\n",
    "\n",
    "\n",
    "def insert_char_at_index(original_string, char_to_insert, index):\n",
    "    part_before = original_string[:index]\n",
    "    part_after = original_string[index+1:]\n",
    "    \n",
    "    return part_before + char_to_insert + part_after\n",
    "\n",
    "jugar_ahorcado(\"PALABRA\", 8)\n"
   ]
  },
  {
   "cell_type": "code",
   "execution_count": null,
   "metadata": {},
   "outputs": [],
   "source": []
  }
 ],
 "metadata": {
  "kernelspec": {
   "display_name": "Python 3",
   "language": "python",
   "name": "python3"
  },
  "language_info": {
   "codemirror_mode": {
    "name": "ipython",
    "version": 3
   },
   "file_extension": ".py",
   "mimetype": "text/x-python",
   "name": "python",
   "nbconvert_exporter": "python",
   "pygments_lexer": "ipython3",
   "version": "3.12.10"
  },
  "orig_nbformat": 4
 },
 "nbformat": 4,
 "nbformat_minor": 2
}
