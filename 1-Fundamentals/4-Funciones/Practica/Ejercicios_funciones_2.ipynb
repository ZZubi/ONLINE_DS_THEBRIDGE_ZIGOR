{
 "cells": [
  {
   "cell_type": "markdown",
   "metadata": {},
   "source": [
    "![imagen](./img/ejercicios.png)"
   ]
  },
  {
   "cell_type": "markdown",
   "metadata": {},
   "source": [
    "# Ejercicios funciones\n",
    "## Ejercicio 1\n",
    "Escribe una función que convierta números del 1 al 7 en nombres de los dias de la semana. La función constará de un único argumento numérico y una salida de tipo string"
   ]
  },
  {
   "cell_type": "code",
   "execution_count": null,
   "metadata": {},
   "outputs": [
    {
     "name": "stdout",
     "output_type": "stream",
     "text": [
      "El día de la semana corrospondiente a 0 de tipo '<class 'int'>' es: ERROR: debes introducir un valor numérico del 1 al 7\n",
      "El día de la semana corrospondiente a 1 de tipo '<class 'int'>' es: Lunes\n",
      "El día de la semana corrospondiente a 2 de tipo '<class 'int'>' es: Martes\n",
      "El día de la semana corrospondiente a 3 de tipo '<class 'int'>' es: Miércoles\n",
      "El día de la semana corrospondiente a 4 de tipo '<class 'int'>' es: Jueves\n",
      "El día de la semana corrospondiente a 5 de tipo '<class 'int'>' es: Viernes\n",
      "El día de la semana corrospondiente a 6 de tipo '<class 'int'>' es: Sábado\n",
      "El día de la semana corrospondiente a 7 de tipo '<class 'int'>' es: Domingo\n",
      "El día de la semana corrospondiente a 8 de tipo '<class 'int'>' es: ERROR: debes introducir un valor numérico del 1 al 7\n",
      "El día de la semana corrospondiente a 9 de tipo '<class 'int'>' es: ERROR: debes introducir un valor numérico del 1 al 7\n",
      "El día de la semana corrospondiente a 10 de tipo '<class 'int'>' es: ERROR: debes introducir un valor numérico del 1 al 7\n",
      "El día de la semana corrospondiente a 1 de tipo '<class 'str'>' es: ERROR: debes introducir un valor numérico del 1 al 7\n",
      "El día de la semana corrospondiente a True de tipo '<class 'bool'>' es: Lunes\n"
     ]
    }
   ],
   "source": [
    "def get_dia_de_la_semana(numero:int):\n",
    "    match numero:\n",
    "        case 1:\n",
    "            return \"Lunes\"\n",
    "        case 2:\n",
    "            return \"Martes\"\n",
    "        case 3:\n",
    "            return \"Miércoles\"\n",
    "        case 4:\n",
    "            return \"Jueves\"\n",
    "        case 5:\n",
    "            return \"Viernes\"\n",
    "        case 6:\n",
    "            return \"Sábado\"\n",
    "        case 7:\n",
    "            return \"Domingo\"\n",
    "        case _:\n",
    "            return \"ERROR: debes introducir un valor numérico del 1 al 7\"\n",
    "        \n",
    "valores_a_probar = [0,1,2,3,4,5,6,7,8,9,10, \"1\", True]\n",
    "print(*(f\"El día de la semana correspondiente a {value} de tipo '{type(value)}' es: {get_dia_de_la_semana(value)}\" for value in valores_a_probar), sep = '\\r\\n')"
   ]
  },
  {
   "cell_type": "code",
   "execution_count": null,
   "metadata": {},
   "outputs": [],
   "source": []
  },
  {
   "cell_type": "code",
   "execution_count": null,
   "metadata": {},
   "outputs": [],
   "source": []
  },
  {
   "cell_type": "markdown",
   "metadata": {},
   "source": [
    "## Ejercicio 2\n",
    "En el ejercicio 8 de flujos de control, creábamos una pirámide invertida de números desde el 5. Crea una función que replique el comportamiento de la pirámide, y utiliza un único parámetro de entrada de la función para determinar el número de filas de la pirámide."
   ]
  },
  {
   "cell_type": "code",
   "execution_count": 9,
   "metadata": {},
   "outputs": [
    {
     "name": "stdout",
     "output_type": "stream",
     "text": [
      "20 19 18 17 16 15 14 13 12 11 10 9 8 7 6 5 4 3 2 1\n",
      "19 18 17 16 15 14 13 12 11 10 9 8 7 6 5 4 3 2 1\n",
      "18 17 16 15 14 13 12 11 10 9 8 7 6 5 4 3 2 1\n",
      "17 16 15 14 13 12 11 10 9 8 7 6 5 4 3 2 1\n",
      "16 15 14 13 12 11 10 9 8 7 6 5 4 3 2 1\n",
      "15 14 13 12 11 10 9 8 7 6 5 4 3 2 1\n",
      "14 13 12 11 10 9 8 7 6 5 4 3 2 1\n",
      "13 12 11 10 9 8 7 6 5 4 3 2 1\n",
      "12 11 10 9 8 7 6 5 4 3 2 1\n",
      "11 10 9 8 7 6 5 4 3 2 1\n",
      "10 9 8 7 6 5 4 3 2 1\n",
      "9 8 7 6 5 4 3 2 1\n",
      "8 7 6 5 4 3 2 1\n",
      "7 6 5 4 3 2 1\n",
      "6 5 4 3 2 1\n",
      "5 4 3 2 1\n",
      "4 3 2 1\n",
      "3 2 1\n",
      "2 1\n",
      "1\n"
     ]
    }
   ],
   "source": [
    "def get_filas_de_una_piramide_invertida(numero_de_lineas:int):\n",
    "    lista_de_valores = list(range(numero_de_lineas, 0, -1))\n",
    "    filas = []\n",
    "\n",
    "    while len(lista_de_valores):\n",
    "        filas.append(\" \".join(str(x) for x in lista_de_valores))\n",
    "        lista_de_valores.pop(0)\n",
    "\n",
    "    return filas\n",
    "\n",
    "numero_de_lineas = 20\n",
    "\n",
    "print(*(get_filas_de_una_piramide_invertida(numero_de_lineas)), sep = \"\\r\\n\")\n",
    "        "
   ]
  },
  {
   "cell_type": "markdown",
   "metadata": {},
   "source": [
    "## Ejercicio 3\n",
    "Escribe una función que compare dos números. La función tiene dos argumentos y hay tres salidas posibles: que sean iguales, que el primero sea  mayor que el segundo, o que el segundo sea mayor que el primero"
   ]
  },
  {
   "cell_type": "code",
   "execution_count": 14,
   "metadata": {},
   "outputs": [
    {
     "name": "stdout",
     "output_type": "stream",
     "text": [
      "Comparando los números 1.1 y 1.4: El segundo es mayor que el primero\n",
      "------------------------------------------------------------------------\n",
      "Comparando los números 1 y 2: El segundo es mayor que el primero\n",
      "------------------------------------------------------------------------\n",
      "Comparando los números 2 y 1: El primero es mayor que el segundo\n",
      "------------------------------------------------------------------------\n",
      "Comparando los números 2 y 2: Los dos son iguales\n",
      "------------------------------------------------------------------------\n",
      "Comparando los números 2.2 y 2: El primero es mayor que el segundo\n",
      "------------------------------------------------------------------------\n",
      "Comparando los números 3.33 y 3.33: Los dos son iguales\n",
      "------------------------------------------------------------------------\n",
      "Comparando los números 4.44 y 4.444: El segundo es mayor que el primero\n",
      "------------------------------------------------------------------------\n"
     ]
    }
   ],
   "source": [
    "def get_comparison_string(num_1:float, num_2:float):\n",
    "    if num_1 > num_2:\n",
    "        return \"El primero es mayor que el segundo\"\n",
    "    elif num_1 < num_2:\n",
    "        return \"El segundo es mayor que el primero\"\n",
    "    else:\n",
    "        return \"Los dos son iguales\"\n",
    "    \n",
    "test_cases = [[1.1, 1.4],[1, 2],[2, 1],[2, 2],[2.2, 2],[3.33, 3.33],[4.44, 4.444]]\n",
    "for test_case in test_cases:\n",
    "    print(f\"Comparando los números {test_case[0]} y {test_case[1]}:\", get_comparison_string(test_case[0], test_case[1]))\n",
    "    print('------------------------------------------------------------------------')"
   ]
  },
  {
   "attachments": {},
   "cell_type": "markdown",
   "metadata": {},
   "source": [
    "## Ejercicio 4\n",
    "Escribe una función que sea un contador de letras. En el primer argumento tienes que introducir un texto, y el segundo que sea una letra que contar. La función tiene que devolver un entero con el número de veces que aparece esa letra, tanto mayúscula, como minúscula"
   ]
  },
  {
   "cell_type": "code",
   "execution_count": 17,
   "metadata": {},
   "outputs": [
    {
     "name": "stdout",
     "output_type": "stream",
     "text": [
      "Texto analizado: 'En un país multicolor nació una abeja bajo el sol y fue famosa en el lugar por su alegría y su bondad.'\n",
      "Numero de caracteres 'e' encontrados: 7\n"
     ]
    }
   ],
   "source": [
    "def get_qty_of_a_given_char_in_a_string(source_string:str, search_character:str):\n",
    "    return sum(1 for char in source_string if char.lower() == search_character.lower())\n",
    "\n",
    "texto = \"En un país multicolor nació una abeja bajo el sol y fue famosa en el lugar por su alegría y su bondad.\"\n",
    "caracter_a_buscar = \"e\"\n",
    "\n",
    "print(f\"Texto analizado: '{texto}'\")\n",
    "print(f\"Numero de caracteres '{caracter_a_buscar}' encontrados:\", get_qty_of_a_given_char_in_a_string(texto, caracter_a_buscar))\n"
   ]
  },
  {
   "cell_type": "markdown",
   "metadata": {},
   "source": [
    "## Ejercicio 5\n",
    "Escribe una función que tenga un único argumento, un string. La salida de la función tiene que ser un diccionario con el conteo de todas las letras de ese string, siendo la clave la letra y el valor el conteo."
   ]
  },
  {
   "cell_type": "code",
   "execution_count": 18,
   "metadata": {},
   "outputs": [
    {
     "name": "stdout",
     "output_type": "stream",
     "text": [
      "Texto analizado: 'En un país multicolor nació una abeja bajo el sol y fue famosa en el lugar por su alegría y su bondad.'\n",
      "Conteo de caracteres: {'E': 1, 'n': 6, ' ': 21, 'u': 7, 'p': 2, 'a': 12, 'í': 2, 's': 5, 'm': 2, 'l': 7, 't': 1, 'i': 2, 'c': 2, 'o': 7, 'r': 4, 'ó': 1, 'b': 3, 'e': 6, 'j': 2, 'y': 2, 'f': 2, 'g': 2, 'd': 2, '.': 1}\n"
     ]
    }
   ],
   "source": [
    "def get_char_count(source_string:str):\n",
    "    output_dictionary = {}\n",
    "    for char in source_string:\n",
    "        output_dictionary[char] = output_dictionary.get(char, 0) + 1\n",
    "\n",
    "    return output_dictionary\n",
    "\n",
    "texto = \"En un país multicolor nació una abeja bajo el sol y fue famosa en el lugar por su alegría y su bondad.\"\n",
    "print(f\"Texto analizado: '{texto}'\")\n",
    "print(\"Conteo de caracteres:\", get_char_count(texto))"
   ]
  },
  {
   "cell_type": "markdown",
   "metadata": {},
   "source": [
    "## Ejercicio 6\n",
    "Escribir una función que añada o elimine elementos en una lista. La función necesita los siguientes argumentos:\n",
    "* lista: la lista donde se añadirán o eliminarán los elementos\n",
    "* comando: \"add\" o \"remove\"\n",
    "* elemento: Por defecto es None.\n",
    "\n",
    "Tendrá como salida la lista"
   ]
  },
  {
   "cell_type": "code",
   "execution_count": null,
   "metadata": {},
   "outputs": [
    {
     "name": "stdout",
     "output_type": "stream",
     "text": [
      "Lista original: ['a', 'b', 'c', 'a', 'b', 'c', 'd']\n",
      "Lista original: ['a', 'b', 'c', 'a', 'b', 'c', 'd', 888]\n",
      "Lista original: ['a', 'b', 'c', 'a', 'b', 'c', 'd', 888, None]\n",
      "Lista original: ['b', 'c', 'b', 'c', 'd', 888, None]\n",
      "Lista original: ['b', 'c', 'b', 'c', 'd', 888]\n"
     ]
    }
   ],
   "source": [
    "def modifica_la_lista(lista:list, comando: str, elemento = None):\n",
    "    match comando:\n",
    "        case \"add\":\n",
    "            lista.append(elemento)\n",
    "        case \"remove\":\n",
    "            while elemento in lista:\n",
    "                lista.remove(elemento)\n",
    "        case _:\n",
    "            print(f\"ERROR: '{comando}' es un comando desconocido, pruebe con 'add' o 'remove'\")\n",
    "    \n",
    "    return lista ## No sería necesario hacer este return en esta función puesto que las listas pasan por referencia a la función, de manera que la lista original con que se llamó a la función será modificada\n",
    "\n",
    "lista_original = [\"a\", \"b\", \"c\", \"a\", \"b\", \"c\", \"d\"]\n",
    "print(\"Lista original:\", lista_original)\n",
    "\n",
    "modifica_la_lista(lista_original, \"add\", 888)\n",
    "print(\"Lista original:\", lista_original) ## No utilizamos el valor retornado por la función, sino la variable original, puesto que ha mutado\n",
    "\n",
    "modifica_la_lista(lista_original, \"add\")\n",
    "print(\"Lista original:\", lista_original)\n",
    "\n",
    "modifica_la_lista(lista_original, \"remove\", \"a\")\n",
    "print(\"Lista original:\", lista_original)\n",
    "\n",
    "modifica_la_lista(lista_original, \"remove\")\n",
    "print(\"Lista original:\", lista_original)"
   ]
  },
  {
   "cell_type": "markdown",
   "metadata": {},
   "source": [
    "## Ejercicio 7\n",
    "Crea una función que reciba un número arbitrario de palabras, y devuelva una frase completa, separando las palabras con espacios."
   ]
  },
  {
   "cell_type": "code",
   "execution_count": 27,
   "metadata": {},
   "outputs": [
    {
     "name": "stdout",
     "output_type": "stream",
     "text": [
      "En un país multicolor\n"
     ]
    }
   ],
   "source": [
    "def get_frase(*palabras):\n",
    "    return \" \".join(palabras)\n",
    "\n",
    "print(get_frase(\"En\", \"un\", \"país\", \"multicolor\"))"
   ]
  },
  {
   "cell_type": "markdown",
   "metadata": {},
   "source": [
    "## Ejercicio 8\n",
    "Escribe un programa que obtenga el enésimo número de la [serie de Fibonacci](https://es.wikipedia.org/wiki/Sucesi%C3%B3n_de_Fibonacci). Tienes que crear una función recursiva con un único argumento.\n",
    "\n",
    "```Python\n",
    "fibonacci(2) = 1\n",
    "fibonacci(4) = 3\n",
    "fibonacci(5) = 5\n",
    "fibonacci(8) = 21\n",
    "```"
   ]
  },
  {
   "cell_type": "markdown",
   "metadata": {},
   "source": [
    "fibonacci(n) = fibonacci(n-1) + fibonacci(n-2)"
   ]
  },
  {
   "cell_type": "code",
   "execution_count": 29,
   "metadata": {},
   "outputs": [
    {
     "name": "stdout",
     "output_type": "stream",
     "text": [
      "Fibonacci(2) = 1\n",
      "Fibonacci(4) = 3\n",
      "Fibonacci(5) = 5\n",
      "Fibonacci(8) = 21\n"
     ]
    }
   ],
   "source": [
    "def fibonacci(x:int):\n",
    "    return 0 if x == 0 else 1 if x == 1 else fibonacci(x-1) + fibonacci(x-2)\n",
    "\n",
    "test_cases = [2,4,5,8]\n",
    "for test_case in test_cases:\n",
    "    print(f\"Fibonacci({test_case}) = {fibonacci(test_case)}\")"
   ]
  },
  {
   "attachments": {},
   "cell_type": "markdown",
   "metadata": {},
   "source": [
    "## Ejercicio 9\n",
    "Define en una única celda las siguientes funciones:\n",
    "* Función que calcule el área de un cuadrado\n",
    "* Función que calcule el área de un triángulo\n",
    "* Función que calcule el área de un círculo\n",
    "\n",
    "En otra celda, calcular el area de:\n",
    "* Dos círculos de radio 10 + un triángulo de base 3 y altura 7\n",
    "* Un cuadrado de lado = 10 + 3 círculos (uno de radio = 4 y los otros dos de radio = 6) + 5 triángulos de base = 2 + altura = 4"
   ]
  },
  {
   "cell_type": "code",
   "execution_count": 33,
   "metadata": {},
   "outputs": [],
   "source": [
    "import math\n",
    "\n",
    "def get_area_cuadrado(lado:float):\n",
    "    return lado * lado\n",
    "\n",
    "def get_area_triangulo(base:float, altura:float):\n",
    "    return (base * altura) / 2\n",
    "\n",
    "def get_area_circulo(radio:float):\n",
    "    return math.pi * radio**2"
   ]
  },
  {
   "cell_type": "code",
   "execution_count": 34,
   "metadata": {},
   "outputs": [
    {
     "name": "stdout",
     "output_type": "stream",
     "text": [
      "Área de dos círculos de radio 10 + un triángulo de base 3 y altura 7:\n",
      "638.8185307179587\n",
      "---------------------------------------------------------------------------------------------------\n",
      "Área de un cuadrado de lado = 10 + 3 círculos (uno de radio = 4 y los otros dos de radio = 6) + 5 triángulos de base = 2 + altura = 4\n",
      "396.46015351590177\n"
     ]
    }
   ],
   "source": [
    "print(\"Área de dos círculos de radio 10 + un triángulo de base 3 y altura 7:\") \n",
    "print(2 * get_area_circulo(10) + get_area_triangulo(3, 7))\n",
    "print(\"---------------------------------------------------------------------------------------------------\")\n",
    "print(\"Área de un cuadrado de lado = 10 + 3 círculos (uno de radio = 4 y los otros dos de radio = 6) + 5 triángulos de base = 2 + altura = 4\")\n",
    "print(get_area_cuadrado(10) + get_area_circulo(4) + 2 * get_area_circulo(6) + 5 * get_area_triangulo(2, 4))"
   ]
  },
  {
   "cell_type": "markdown",
   "metadata": {},
   "source": [
    "## Ejercicio 10\n",
    "\n",
    "Guarda las funciones de estos ejercicios en un fichero llamado `funciones.py` e importalas desde este jupyter notebook para probar que puedes hacer uso de ellas."
   ]
  },
  {
   "cell_type": "code",
   "execution_count": null,
   "metadata": {},
   "outputs": [
    {
     "name": "stdout",
     "output_type": "stream",
     "text": [
      "Área de dos círculos de radio 10 + un triángulo de base 3 y altura 7:\n"
     ]
    },
    {
     "ename": "AttributeError",
     "evalue": "module 'funciones' has no attribute 'get_area_circulo'",
     "output_type": "error",
     "traceback": [
      "\u001b[31m---------------------------------------------------------------------------\u001b[39m",
      "\u001b[31mAttributeError\u001b[39m                            Traceback (most recent call last)",
      "\u001b[36mCell\u001b[39m\u001b[36m \u001b[39m\u001b[32mIn[38]\u001b[39m\u001b[32m, line 4\u001b[39m\n\u001b[32m      1\u001b[39m \u001b[38;5;28;01mimport\u001b[39;00m\u001b[38;5;250m \u001b[39m\u001b[34;01mfunciones\u001b[39;00m\u001b[38;5;250m \u001b[39m\u001b[38;5;28;01mas\u001b[39;00m\u001b[38;5;250m \u001b[39m\u001b[34;01mf\u001b[39;00m\n\u001b[32m      3\u001b[39m \u001b[38;5;28mprint\u001b[39m(\u001b[33m\"\u001b[39m\u001b[33mÁrea de dos círculos de radio 10 + un triángulo de base 3 y altura 7:\u001b[39m\u001b[33m\"\u001b[39m) \n\u001b[32m----> \u001b[39m\u001b[32m4\u001b[39m \u001b[38;5;28mprint\u001b[39m(\u001b[32m2\u001b[39m * \u001b[43mf\u001b[49m\u001b[43m.\u001b[49m\u001b[43mget_area_circulo\u001b[49m(\u001b[32m10\u001b[39m) + f.get_area_triangulo(\u001b[32m3\u001b[39m, \u001b[32m7\u001b[39m))\n\u001b[32m      5\u001b[39m \u001b[38;5;28mprint\u001b[39m(\u001b[33m\"\u001b[39m\u001b[33m---------------------------------------------------------------------------------------------------\u001b[39m\u001b[33m\"\u001b[39m)\n\u001b[32m      6\u001b[39m \u001b[38;5;28mprint\u001b[39m(\u001b[33m\"\u001b[39m\u001b[33mÁrea de un cuadrado de lado = 10 + 3 círculos (uno de radio = 4 y los otros dos de radio = 6) + 5 triángulos de base = 2 + altura = 4\u001b[39m\u001b[33m\"\u001b[39m)\n",
      "\u001b[31mAttributeError\u001b[39m: module 'funciones' has no attribute 'get_area_circulo'"
     ]
    }
   ],
   "source": [
    "import funciones as f\n",
    "\n",
    "print(\"Área de dos círculos de radio 10 + un triángulo de base 3 y altura 7:\") \n",
    "print(2 * f.get_area_circulo(10) + f.get_area_triangulo(3, 7))\n",
    "print(\"---------------------------------------------------------------------------------------------------\")\n",
    "print(\"Área de un cuadrado de lado = 10 + 3 círculos (uno de radio = 4 y los otros dos de radio = 6) + 5 triángulos de base = 2 + altura = 4\")\n",
    "print(f.get_area_cuadrado(10) + f.get_area_circulo(4) + 2 * f.get_area_circulo(6) + 5 * f.get_area_triangulo(2, 4))"
   ]
  }
 ],
 "metadata": {
  "kernelspec": {
   "display_name": "Python 3",
   "language": "python",
   "name": "python3"
  },
  "language_info": {
   "codemirror_mode": {
    "name": "ipython",
    "version": 3
   },
   "file_extension": ".py",
   "mimetype": "text/x-python",
   "name": "python",
   "nbconvert_exporter": "python",
   "pygments_lexer": "ipython3",
   "version": "3.12.10"
  }
 },
 "nbformat": 4,
 "nbformat_minor": 4
}
