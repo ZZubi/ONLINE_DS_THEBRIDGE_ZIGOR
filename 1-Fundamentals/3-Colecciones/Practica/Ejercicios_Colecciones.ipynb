{
 "cells": [
  {
   "cell_type": "markdown",
   "metadata": {},
   "source": [
    "![imagen](./img/ejercicios.png)"
   ]
  },
  {
   "cell_type": "markdown",
   "metadata": {},
   "source": [
    "## Ejercicio 1\n",
    "Dada la siguiente lista:\n",
    "> ```ejer_1 = [1,2,3,4,5]```\n",
    "\n",
    "Inviértela para que quede de la siguiente manera\n",
    "> ```ejer_1 = [5,4,3,2,1]```"
   ]
  },
  {
   "cell_type": "code",
   "execution_count": null,
   "metadata": {},
   "outputs": [
    {
     "name": "stdout",
     "output_type": "stream",
     "text": [
      "[5, 4, 3, 2, 1]\n",
      "[1, 2, 3, 4, 5]\n",
      "[5, 4, 3, 2, 1]\n"
     ]
    }
   ],
   "source": [
    "ejer_1 = [1,2,3,4,5]\n",
    "ejer_1.reverse()\n",
    "print(ejer_1)"
   ]
  },
  {
   "cell_type": "markdown",
   "metadata": {},
   "source": [
    "## Ejercicio 3\n",
    "Crea una lista nueva con todas las combinaciones de las siguientes dos listas:\n",
    "> ```ejer_3_1 = [\"Hola\", \"amigo\"]```\n",
    ">\n",
    "> ```ejer_3_2 = [\"Que\", \"tal\"]```\n",
    "\n",
    "Obten el siguiente output:\n",
    "\n",
    "```['Hola Que', 'Hola tal', 'amigo Que', 'amigo tal']```"
   ]
  },
  {
   "cell_type": "code",
   "execution_count": 4,
   "metadata": {},
   "outputs": [
    {
     "name": "stdout",
     "output_type": "stream",
     "text": [
      "['Hola Que', 'Hola tal', 'amigo Que', 'amigo tal']\n"
     ]
    }
   ],
   "source": [
    "ejer_3_1 = [\"Hola\", \"amigo\"]\n",
    "ejer_3_2 = [\"Que\", \"tal\"]\n",
    "todas_las_combinaciones = []\n",
    "\n",
    "for val_1 in ejer_3_1:\n",
    "    for val_2 in ejer_3_2:\n",
    "        todas_las_combinaciones.append(\" \".join([val_1, val_2]))\n",
    "\n",
    "print(todas_las_combinaciones)"
   ]
  },
  {
   "attachments": {},
   "cell_type": "markdown",
   "metadata": {},
   "source": [
    "## Ejercicio 4\n",
    "Dada la siguiente lista, encuentra por el índice el valor 45 y sustitúyelo por el 0\n",
    "> ```ejer_4 = [20, 47, 19, 29, 45, 67, 78, 90]```"
   ]
  },
  {
   "cell_type": "code",
   "execution_count": 5,
   "metadata": {},
   "outputs": [
    {
     "name": "stdout",
     "output_type": "stream",
     "text": [
      "[20, 47, 19, 29, 0, 67, 78, 90]\n"
     ]
    }
   ],
   "source": [
    "ejer_4 = [20, 47, 19, 29, 45, 67, 78, 90]\n",
    "\n",
    "index_of_45 = ejer_4.index(45)\n",
    "ejer_4[index_of_45] = 0\n",
    "\n",
    "print(ejer_4)"
   ]
  },
  {
   "cell_type": "markdown",
   "metadata": {},
   "source": [
    "## Ejercicio 5\n",
    "Dada la siguiente lista, elimina todos los valores iguales a 3\n",
    "> ```ejer_5 = [3, 20, 3, 47, 19, 3, 29, 45, 67, 78, 90, 3, 3]```\n",
    "\n",
    "TIP: No intentes eliminar elementos sobre la lista que estás iterando. Haz una copia con `ejer_5.copy()`."
   ]
  },
  {
   "cell_type": "code",
   "execution_count": null,
   "metadata": {},
   "outputs": [
    {
     "name": "stdout",
     "output_type": "stream",
     "text": [
      "[20, 3, 47, 19, 3, 29, 45, 67, 78, 90, 3, 3]\n",
      "[20, 47, 19, 3, 29, 45, 67, 78, 90, 3, 3]\n",
      "[20, 47, 19, 29, 45, 67, 78, 90, 3, 3]\n",
      "[20, 47, 19, 29, 45, 67, 78, 90, 3]\n",
      "[20, 47, 19, 29, 45, 67, 78, 90]\n",
      "[20, 47, 19, 29, 45, 67, 78, 90]\n"
     ]
    },
    {
     "data": {
      "text/plain": [
       "'\\nremoved_item_count = 0\\nfor index,value in enumerate(ejer_5):\\n    if value == 3:\\n        del ejer_5_copia[index - removed_item_count] ## we need to substract the removed item count because each index deletion will affect the subsequent indexes of the list\\n        removed_item_count+=1\\n\\nprint(ejer_5_copia)\\n'"
      ]
     },
     "execution_count": 8,
     "metadata": {},
     "output_type": "execute_result"
    }
   ],
   "source": [
    "ejer_5 = [3, 20, 3, 47, 19, 3, 29, 45, 67, 78, 90, 3, 3] ## we will iterate this list\n",
    "ejer_5_copia = ejer_5.copy() ## we will remove on this list\n",
    "\n",
    "for i in ejer_5_copia:\n",
    "    \n",
    "    if i == 3:\n",
    "        print(i)\n",
    "        ejer_5.remove(i)\n",
    "        print(ejer_5)\n",
    "\n",
    "print(ejer_5)\n",
    "\n",
    "'''\n",
    "removed_item_count = 0\n",
    "for index,value in enumerate(ejer_5):\n",
    "    if value == 3:\n",
    "        del ejer_5_copia[index - removed_item_count] ## we need to substract the removed item count because each index deletion will affect the subsequent indexes of the list\n",
    "        removed_item_count+=1\n",
    "\n",
    "print(ejer_5_copia)\n",
    "'''"
   ]
  },
  {
   "attachments": {},
   "cell_type": "markdown",
   "metadata": {},
   "source": [
    "## Ejercicio 6\n",
    "1. Crea una tupla con 3 elementos\n",
    "2. Crea otra tupla con un elemento y comprueba su tipo\n",
    "3. Crea una tupla con elementos de diferentes tipos\n",
    "4. Imprime por pantalla el primer y último elemento de la tupla del apartado 3. Usa `len` para el último\n",
    "5. Añade un elemento a la tupla del apartado 3.\n",
    "6. Eliminar un elemento de la tupla del apartado 5, que se encuentre más o menos en la mitad.\n",
    "7. Convierte la tupla del apartado 5 en una lista"
   ]
  },
  {
   "cell_type": "code",
   "execution_count": 14,
   "metadata": {},
   "outputs": [
    {
     "name": "stdout",
     "output_type": "stream",
     "text": [
      "<class 'tuple'>\n",
      "Primer elemento: aa\n",
      "Último elemento (con [-1]): True\n",
      "Último elemento (con len()): True\n",
      "No es posible añadir un elemento a una tupla puesto que se trata de una estructura de datos INMUTABLE\n",
      "No es posible eliminar un elemento a una tupla puesto que se trata de una estructura de datos INMUTABLE\n",
      "['aa', 2, [1, 2, 3], True]\n"
     ]
    }
   ],
   "source": [
    "## 01\n",
    "tupla_1 = (12, 24, 55)\n",
    "\n",
    "## 02\n",
    "tupla_2 = (99,)\n",
    "print(type(tupla_2))\n",
    "\n",
    "## 03\n",
    "tupla_3 = (\"aa\", 2, [1,2,3], True)\n",
    "\n",
    "## 04\n",
    "print(\"Primer elemento:\", tupla_3[0])\n",
    "print(\"Último elemento (con [-1]):\", tupla_3[-1])\n",
    "print(\"Último elemento (con len()):\", tupla_3[len(tupla_3)-1])\n",
    "\n",
    "## 05\n",
    "print(\"No es posible añadir un elemento a una tupla puesto que se trata de una estructura de datos INMUTABLE\")\n",
    "\n",
    "## 06\n",
    "print(\"No es posible eliminar un elemento a una tupla puesto que se trata de una estructura de datos INMUTABLE\")\n",
    "\n",
    "## 07\n",
    "lista_desde_tupla = list(tupla_3)\n",
    "print(lista_desde_tupla)\n"
   ]
  },
  {
   "attachments": {},
   "cell_type": "markdown",
   "metadata": {},
   "source": [
    "## Ejercicio 7\n",
    "Concatena todos los elementos de la tupla en un único string. Para ello utiliza el metodo `.join()` de los Strings\n",
    "> ```ejer_7 = (\"cien\", \"cañones\", \"por\", \"banda\")```\n",
    "\n",
    "Resultado: `cien cañones por banda`"
   ]
  },
  {
   "cell_type": "code",
   "execution_count": 16,
   "metadata": {},
   "outputs": [
    {
     "name": "stdout",
     "output_type": "stream",
     "text": [
      "cien cañones por banda\n"
     ]
    }
   ],
   "source": [
    "ejer_7 = (\"cien\", \"cañones\", \"por\", \"banda\")\n",
    "print(\" \".join(ejer_7))"
   ]
  },
  {
   "cell_type": "markdown",
   "metadata": {},
   "source": [
    "## Ejercicio 8\n",
    "Obten el tercer elemento de la siguiente tupla, y el tercero empezando por la cola\n",
    "> ```ejer_8 = (3, 20, 3, 47, 19, 3, 29, 45, 67, 78, 90, 3, 3)```"
   ]
  },
  {
   "cell_type": "code",
   "execution_count": 17,
   "metadata": {},
   "outputs": [
    {
     "name": "stdout",
     "output_type": "stream",
     "text": [
      "Tercer elemento por el inicio: 3\n",
      "Tercer elemento por la cola: 90\n"
     ]
    }
   ],
   "source": [
    "ejer_8 = (3, 20, 3, 47, 19, 3, 29, 45, 67, 78, 90, 3, 3)\n",
    "print(\"Tercer elemento por el inicio:\", ejer_8[2])\n",
    "print(\"Tercer elemento por la cola:\", ejer_8[-3])"
   ]
  },
  {
   "cell_type": "markdown",
   "metadata": {},
   "source": [
    "## Ejercicio 11\n",
    "Convierte la siguiente lista en un diccionario\n",
    "> ```ejer_11 = [(\"x\", 1), (\"x\", 2), (\"x\", 3), (\"y\", 1), (\"y\", 2), (\"z\", 1)]```\n",
    "\n",
    "TIP: Puedes usar dos variables de control en un bucle `for`. Una por cada valor de las tuplas."
   ]
  },
  {
   "cell_type": "code",
   "execution_count": 19,
   "metadata": {},
   "outputs": [
    {
     "name": "stdout",
     "output_type": "stream",
     "text": [
      "Un diccionario no puede tener claves repetidas, por lo que en la conversión que realizaremos se perderá información, ya que hay varias tuplas con su primer elemento repetido. El valor que se conservará en el diccionario es el de la última clave que se procese :)\n",
      "{'x': 3, 'y': 2, 'z': 1}\n"
     ]
    }
   ],
   "source": [
    "ejer_11 = [(\"x\", 1), (\"x\", 2), (\"x\", 3), (\"y\", 1), (\"y\", 2), (\"z\", 1)]\n",
    "diccionario = {}\n",
    "\n",
    "print(\"Un diccionario no puede tener claves repetidas, por lo que en la conversión \" \\\n",
    "\"que realizaremos se perderá información, ya que hay varias tuplas con su primer elemento repetido. \" \\\n",
    "\"El valor que se conservará en el diccionario es el de la última clave que se procese :)\")\n",
    "\n",
    "for dictionary_index, dictionary_value in ejer_11:\n",
    "    diccionario[dictionary_index] = dictionary_value\n",
    "\n",
    "print(diccionario)"
   ]
  },
  {
   "attachments": {},
   "cell_type": "markdown",
   "metadata": {},
   "source": [
    "## Ejercicio 12\n",
    "1. Crea una lista ordenada ascendente con las claves del diccionario\n",
    "2. Crea otra lista ordenada descendente con los valores\n",
    "3. Añade una nueva clave/valor\n",
    "4. Busca la clave igual a 2 dentro del diccionario\n",
    "5. Itera la clave y el valor del diccionario con un único for\n",
    "> ```ejer_12 = {4:78, 2:98, 8:234, 5:29}```"
   ]
  },
  {
   "cell_type": "code",
   "execution_count": 27,
   "metadata": {},
   "outputs": [
    {
     "name": "stdout",
     "output_type": "stream",
     "text": [
      "01. [2, 4, 5, 8]\n",
      "02. [234, 98, 78, 29]\n",
      "03. {4: 78, 2: 98, 8: 234, 5: 29, 88: 654}\n",
      "04. 98\n",
      "05. Clave: 4, Valor: 78\n",
      "05. Clave: 2, Valor: 98\n",
      "05. Clave: 8, Valor: 234\n",
      "05. Clave: 5, Valor: 29\n",
      "05. Clave: 88, Valor: 654\n"
     ]
    }
   ],
   "source": [
    "ejer_12 = {4:78, 2:98, 8:234, 5:29}\n",
    "\n",
    "## 01\n",
    "lista_ordenada_con_claves = sorted(ejer_12.keys())\n",
    "print(\"01.\", lista_ordenada_con_claves)\n",
    "\n",
    "## 02\n",
    "lista_ordenada_con_valores_descendente = sorted(ejer_12.values(), reverse=True)\n",
    "print(\"02.\", lista_ordenada_con_valores_descendente)\n",
    "\n",
    "## 03\n",
    "ejer_12[88] = 654\n",
    "print(\"03.\", ejer_12)\n",
    "\n",
    "## 04\n",
    "print(\"04.\", ejer_12[2])\n",
    "\n",
    "## 05\n",
    "for clave,valor in ejer_12.items():\n",
    "    print(f\"05. Clave: {clave}, Valor: {valor}\" )"
   ]
  },
  {
   "cell_type": "markdown",
   "metadata": {},
   "source": [
    "## Ejercicio 13\n",
    "Junta ambos diccionarios. Para ello, utiliza `update`\n",
    "> ```ejer_13_1 = {1: 11, 2: 22}```\n",
    ">\n",
    "> ```ejer_13_2 = {3: 33, 4: 44}```"
   ]
  },
  {
   "cell_type": "code",
   "execution_count": 28,
   "metadata": {},
   "outputs": [
    {
     "name": "stdout",
     "output_type": "stream",
     "text": [
      "{1: 11, 2: 22, 3: 33, 4: 44}\n"
     ]
    }
   ],
   "source": [
    "ejer_13_1 = {1: 11, 2: 22}\n",
    "ejer_13_2 = {3: 33, 4: 44}\n",
    "\n",
    "ejer_13_1.update(ejer_13_2)\n",
    "print(ejer_13_1)\n"
   ]
  },
  {
   "cell_type": "markdown",
   "metadata": {},
   "source": [
    "## Ejercicio 14\n",
    "Suma todos los valores del dicionario\n",
    "> ```ejer_14 = {1: 11, 2: 22, 3: 33, 4: 44, 5: 55}```"
   ]
  },
  {
   "cell_type": "code",
   "execution_count": null,
   "metadata": {},
   "outputs": [
    {
     "name": "stdout",
     "output_type": "stream",
     "text": [
      "Suma de los valores del diccionario: 165\n"
     ]
    }
   ],
   "source": [
    "ejer_14 = {1: 11, 2: 22, 3: 33, 4: 44, 5: 55}\n",
    "print(\"Suma de todos los valores del diccionario:\", sum(ejer_14.values()))"
   ]
  },
  {
   "cell_type": "markdown",
   "metadata": {},
   "source": [
    "## Ejercicio 15\n",
    "Multiplica todos los valores del diccionario\n",
    "> ```ejer_15 = {1: 11, 2: 22, 3: 33, 4: 44, 5: 55}```"
   ]
  },
  {
   "cell_type": "code",
   "execution_count": 32,
   "metadata": {},
   "outputs": [
    {
     "name": "stdout",
     "output_type": "stream",
     "text": [
      "Multiplicación de todos los valores del diccionario: 19326120\n"
     ]
    }
   ],
   "source": [
    "import math\n",
    "\n",
    "ejer_15 = {1: 11, 2: 22, 3: 33, 4: 44, 5: 55}\n",
    "print(\"Multiplicación de todos los valores del diccionario:\", math.prod(ejer_15.values()))"
   ]
  },
  {
   "cell_type": "markdown",
   "metadata": {},
   "source": [
    "## Ejercicio 16\n",
    "1. Crea un set de tres elementos\n",
    "2. Añade un cuarto\n",
    "3. Elimina el último elemento añadido\n",
    "4. Elimina el elemento 10, si está presente. Usa `discard()`"
   ]
  },
  {
   "cell_type": "code",
   "execution_count": 38,
   "metadata": {},
   "outputs": [
    {
     "name": "stdout",
     "output_type": "stream",
     "text": [
      "01. {1, 2, 3}\n",
      "02. {1, 2, 3, 4}\n",
      "03. {1, 2, 3}\n",
      "04. {1, 2, 3}\n"
     ]
    }
   ],
   "source": [
    "## 01\n",
    "set_1 = {1,2,3}\n",
    "print(\"01.\", set_1)\n",
    "\n",
    "## 02\n",
    "set_1.add(4)\n",
    "print(\"02.\", set_1)\n",
    "\n",
    "## 03\n",
    "set_1.remove(4) ## remove raises an error if 4 doesn't exist\n",
    "print(\"03.\", set_1)\n",
    "\n",
    "## 04\n",
    "set_1.discard(10) ## discard tries to remove if it exist, does nothing otherwise\n",
    "print(\"04.\", set_1)"
   ]
  }
 ],
 "metadata": {
  "kernelspec": {
   "display_name": "Python 3 (ipykernel)",
   "language": "python",
   "name": "python3"
  },
  "language_info": {
   "codemirror_mode": {
    "name": "ipython",
    "version": 3
   },
   "file_extension": ".py",
   "mimetype": "text/x-python",
   "name": "python",
   "nbconvert_exporter": "python",
   "pygments_lexer": "ipython3",
   "version": "3.12.10"
  }
 },
 "nbformat": 4,
 "nbformat_minor": 4
}
