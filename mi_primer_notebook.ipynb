{
 "cells": [
  {
   "cell_type": "code",
   "execution_count": 1,
   "id": "77e7fa96-0186-4535-92e4-03372f68bacc",
   "metadata": {},
   "outputs": [
    {
     "name": "stdout",
     "output_type": "stream",
     "text": [
      "hola mundo from code\n"
     ]
    }
   ],
   "source": [
    "print(\"hola mundo from code\")"
   ]
  },
  {
   "cell_type": "markdown",
   "id": "f9016079-0077-4a82-a43f-275291c3fbab",
   "metadata": {},
   "source": [
    "Hola mundo from markdown"
   ]
  },
  {
   "cell_type": "code",
   "execution_count": null,
   "id": "372bc0ad-6695-46f2-830c-2b55feb0eaf8",
   "metadata": {},
   "outputs": [],
   "source": []
  },
  {
   "cell_type": "code",
   "execution_count": null,
   "id": "1688086d-e6aa-4f9b-b1c3-9b61f2b7cde7",
   "metadata": {},
   "outputs": [],
   "source": []
  }
 ],
 "metadata": {
  "kernelspec": {
   "display_name": "Python 3 (ipykernel)",
   "language": "python",
   "name": "python3"
  },
  "language_info": {
   "codemirror_mode": {
    "name": "ipython",
    "version": 3
   },
   "file_extension": ".py",
   "mimetype": "text/x-python",
   "name": "python",
   "nbconvert_exporter": "python",
   "pygments_lexer": "ipython3",
   "version": "3.13.7"
  }
 },
 "nbformat": 4,
 "nbformat_minor": 5
}
