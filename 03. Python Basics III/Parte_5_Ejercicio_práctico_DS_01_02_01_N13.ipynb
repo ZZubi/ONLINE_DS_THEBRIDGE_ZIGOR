{
 "cells": [
  {
   "cell_type": "markdown",
   "metadata": {
    "id": "9l3HMgm6RWxF"
   },
   "source": [
    "![TheBridge_logo_RGB_color.jpg](attachment:TheBridge_logo_RGB_color.jpg)"
   ]
  },
  {
   "cell_type": "markdown",
   "metadata": {
    "id": "RGg9iWpoRWxG"
   },
   "source": [
    "![ejercicios.png](attachment:ejercicios.png)"
   ]
  },
  {
   "cell_type": "markdown",
   "metadata": {
    "id": "AyOlWS2nRWxH"
   },
   "source": [
    "## PRACTICA OBLIGATORIA: COLECCIONES Y FUNCIONES"
   ]
  },
  {
   "cell_type": "markdown",
   "metadata": {
    "id": "6UOgb0KVRWxH"
   },
   "source": [
    "* La práctica obligatoria de esta unidad consiste varios ejercicios de programación libre a completar sobre Colecciones y Funciones. Descarga este notebook en tu ordenador y trabaja en local.  \n",
    "* Recuerda que debes subirla a tu repositorio personal antes de la sesión en vivo para que puntúe adecuadamente y puedas participar en dicha sesión.  \n",
    "* Recuerda también que no es necesario que esté perfecta, sólo es necesario que se vea el esfuerzo.\n",
    "* Esta práctica se resolverá en la sesión en vivo correspondiente y la solución se publicará en el repo del curso."
   ]
  },
  {
   "cell_type": "markdown",
   "metadata": {
    "id": "j3yu-tEjRWxH"
   },
   "source": [
    "### Contenidos"
   ]
  },
  {
   "cell_type": "markdown",
   "metadata": {
    "id": "kO-fLH39RWxH"
   },
   "source": [
    "## Ejercicio 1\n",
    "Eleva todos los elementos de la lista al cuadrado\n",
    "> ```ejer_2 = [1,2,3,4,5]```"
   ]
  },
  {
   "cell_type": "code",
   "execution_count": 1,
   "metadata": {
    "id": "ks5l3yi7RWxH"
   },
   "outputs": [
    {
     "name": "stdout",
     "output_type": "stream",
     "text": [
      "[1, 4, 9, 16, 25]\n"
     ]
    }
   ],
   "source": [
    "def elevar_al_cuadrado(lista_de_numeros):\n",
    "    resultado = []\n",
    "    for value in lista_de_numeros:\n",
    "        resultado.append(value ** 2)\n",
    "    return resultado\n",
    "\n",
    "ejer_2 = [1,2,3,4,5]\n",
    "ejer_2_al_cuadrado = elevar_al_cuadrado(ejer_2)\n",
    "print(ejer_2_al_cuadrado)"
   ]
  },
  {
   "cell_type": "markdown",
   "metadata": {
    "id": "kI_Xr5oFRWxI"
   },
   "source": [
    "## Ejercicio 2\n",
    "Haz un programa que detecte todos los duplicados de un elemento en una lista:\n",
    "* Utiliza una variable duplicado para asignarle el valor del elemento del que queremos encontrar todos sus duplicados.\n",
    "* El programa debe devolver todos los índices de los elementos duplicados.\n",
    "* Aplícalo para encontrar los duplicados de \"un\", \"es\" y \"binario\" de:  \n",
    "\n",
    ">```ejer_3 = [\"Un\", \"árbol\", \"binario\", \"es\", \"una\", \"estructura\", \"de\", \"un\", \"tipo\", \"particular\", \"a\", \"veces\", \"no\", \"es\", \"ni\", \"binario\"]```\n"
   ]
  },
  {
   "cell_type": "code",
   "execution_count": 4,
   "metadata": {
    "id": "cLY9WB7YRWxI"
   },
   "outputs": [
    {
     "name": "stdout",
     "output_type": "stream",
     "text": [
      "Indices de 'un': [7]\n",
      "Indices de 'es': [3, 13]\n",
      "Indices de 'binario': [2, 15]\n"
     ]
    }
   ],
   "source": [
    "def encontrar_indices(lista, valor_buscado):\n",
    "    indices_del_valor_buscado = []\n",
    "    for list_index,list_item in enumerate(lista):\n",
    "        if list_item == valor_buscado:\n",
    "            indices_del_valor_buscado.append(list_index)\n",
    "    return indices_del_valor_buscado\n",
    "\n",
    "ejer_3 = [\"Un\", \"árbol\", \"binario\", \"es\", \"una\", \"estructura\", \"de\", \"un\", \"tipo\", \"particular\", \"a\", \"veces\", \"no\", \"es\", \"ni\", \"binario\"]\n",
    "valores_a_buscar = [\"un\", \"es\", \"binario\"]\n",
    "\n",
    "for valor_a_buscar in valores_a_buscar:\n",
    "    print(f\"Indices de '{valor_a_buscar}':\", encontrar_indices(ejer_3, valor_a_buscar))\n"
   ]
  },
  {
   "cell_type": "markdown",
   "metadata": {
    "id": "3WrBd5QaRWxI"
   },
   "source": [
    "## Ejercicio 3\n",
    "1. ¿Cuántas veces se repite el 3 en la siguiente tupla?\n",
    "2. Crea una tupla nueva con los elementos desde la posicion 5 a la 10.\n",
    "3. ¿Cuántos elementos tiene la tupla `ejer_3`?\n",
    "> ```ejer_9 = (3, 20, 3, 47, 19, 3, 29, 45, 67, 78, 90, 3, 3, 5, 2, 4, 7, 9, 4, 2, 4, 3, 3, 4, 6, 7)```"
   ]
  },
  {
   "cell_type": "code",
   "execution_count": 8,
   "metadata": {
    "id": "bkv_R5LYRWxI"
   },
   "outputs": [
    {
     "name": "stdout",
     "output_type": "stream",
     "text": [
      "El 3 se repite 7 veces\n",
      "(19, 3, 29, 45, 67)\n",
      "La tupla tiene 26 elementos\n"
     ]
    }
   ],
   "source": [
    "ejer_9 = (3, 20, 3, 47, 19, 3, 29, 45, 67, 78, 90, 3, 3, 5, 2, 4, 7, 9, 4, 2, 4, 3, 3, 4, 6, 7)\n",
    "\n",
    "## 01\n",
    "veces_que_se_repite_el_3 = ejer_9.count(3)\n",
    "print(f\"El 3 se repite {veces_que_se_repite_el_3} veces\")\n",
    "\n",
    "## 02\n",
    "nueva_tupla = ejer_9[4:9] ## 4:9 -> zero indexed 5 to 10 positions\n",
    "print(nueva_tupla)\n",
    "\n",
    "## 03\n",
    "print(f\"La tupla tiene {len(ejer_9)} elementos\")"
   ]
  },
  {
   "cell_type": "markdown",
   "metadata": {
    "id": "6g8Y54AeRWxI"
   },
   "source": [
    "## Ejercicio 4\n",
    "Comprueba si el numero 60 esta en la tupla del ejercicio 3"
   ]
  },
  {
   "cell_type": "code",
   "execution_count": 12,
   "metadata": {
    "id": "F8VTEZonRWxI"
   },
   "outputs": [
    {
     "name": "stdout",
     "output_type": "stream",
     "text": [
      "El valor '60' NO existe dentro de la tupla\n"
     ]
    }
   ],
   "source": [
    "valor_a_buscar = 60\n",
    "if valor_a_buscar in ejer_9:\n",
    "    print(f\"El valor '{valor_a_buscar}' existe dentro de la tupla\")\n",
    "else:\n",
    "    print(f\"El valor '{valor_a_buscar}' NO existe dentro de la tupla\")"
   ]
  },
  {
   "cell_type": "markdown",
   "metadata": {
    "id": "y0fg-ZA6RWxI"
   },
   "source": [
    "## Ejercicio 5\n",
    "1. Convierte la tupla del ejercicio 3 en una lista\n",
    "2. Convierte la tupla del ejercicio 3 en un set\n",
    "3. Convierte la tupla del ejercicio 3 en un diccionario. Usa también los indices"
   ]
  },
  {
   "cell_type": "code",
   "execution_count": 19,
   "metadata": {
    "id": "_O5hXr01RWxI"
   },
   "outputs": [
    {
     "name": "stdout",
     "output_type": "stream",
     "text": [
      "Lista: ['Un', 'árbol', 'binario', 'es', 'una', 'estructura', 'de', 'un', 'tipo', 'particular', 'a', 'veces', 'no', 'es', 'ni', 'binario']\n",
      "Set: {'una', 'particular', 'Un', 'no', 'ni', 'árbol', 'tipo', 'a', 'binario', 'es', 'de', 'un', 'estructura', 'veces'}\n",
      "Diccionario: {0: 'Un', 1: 'árbol', 2: 'binario', 3: 'es', 4: 'una', 5: 'estructura', 6: 'de', 7: 'un', 8: 'tipo', 9: 'particular', 10: 'a', 11: 'veces', 12: 'no', 13: 'es', 14: 'ni', 15: 'binario'}\n"
     ]
    }
   ],
   "source": [
    "## 01\n",
    "mi_lista = list(ejer_3)\n",
    "print(\"Lista:\", mi_lista)\n",
    "\n",
    "## 02\n",
    "mi_set = set(ejer_3)\n",
    "print(\"Set:\", mi_set)\n",
    "\n",
    "## 03\n",
    "mi_diccionario = dict(enumerate(ejer_3))\n",
    "print(\"Diccionario:\", mi_diccionario)"
   ]
  },
  {
   "cell_type": "markdown",
   "metadata": {
    "id": "eOdWWbxvRWxJ"
   },
   "source": [
    "## Ejercicio 6\n",
    "Multiplica todos los valores del diccionario\n",
    "> ```ejer_6 = {1: 11, 2: 22, 3: 33, 4: 44, 5: 55}```"
   ]
  },
  {
   "cell_type": "code",
   "execution_count": 21,
   "metadata": {
    "id": "KcuByovKRWxJ"
   },
   "outputs": [
    {
     "name": "stdout",
     "output_type": "stream",
     "text": [
      "Valores multiplicados: 19326120\n"
     ]
    }
   ],
   "source": [
    "ejer_6 = {1: 11, 2: 22, 3: 33, 4: 44, 5: 55}\n",
    "valores_multiplicados = 0\n",
    "\n",
    "for valor in ejer_6.values():\n",
    "    if valores_multiplicados == 0:\n",
    "        valores_multiplicados = valor\n",
    "    else:\n",
    "        valores_multiplicados *= valor\n",
    "\n",
    "print (\"Valores multiplicados:\", valores_multiplicados)"
   ]
  },
  {
   "cell_type": "markdown",
   "metadata": {
    "id": "W7TUSaKRRWxJ"
   },
   "source": [
    "## Ejercicio 7\n",
    "\n",
    "1. Crea un diccionario que describa un libro, con los siguientes campos o claves: \"titulo\",\"autor\",\"idioma original\",\"año de publicación\".\n",
    "2. Crea un a lista, llamada librería.\n",
    "3. Añade cuatro libros a tu elección a la librería."
   ]
  },
  {
   "cell_type": "code",
   "execution_count": 29,
   "metadata": {
    "id": "d-IMRvxRRWxJ",
    "vscode": {
     "languageId": "plaintext"
    }
   },
   "outputs": [
    {
     "name": "stdout",
     "output_type": "stream",
     "text": [
      "Contenido de la libreria: [{'titulo': 'Don Quijote de la Mancha', 'autor': 'Cervantes', 'idioma original': 'Castellano', 'año de publicación': '1605'}, {'titulo': 'Endurance', 'autor': 'Alfred Lansing', 'idioma original': 'English', 'año de publicación': '1959'}, {'titulo': 'South', 'autor': 'Ernest Shackleton', 'idioma original': 'English', 'año de publicación': '1919'}, {'titulo': '1984', 'autor': 'George Orwell', 'idioma original': 'English', 'año de publicación': '1949'}]\n"
     ]
    }
   ],
   "source": [
    "## 01\n",
    "diccionario = {\"titulo\": \"Don Quijote de la Mancha\", \"autor\": \"Cervantes\", \"idioma original\": \"Castellano\", \"año de publicación\": \"1605\"}\n",
    "\n",
    "## 02\n",
    "libreria = []\n",
    "\n",
    "## 03\n",
    "libreria.append(diccionario)\n",
    "libreria.extend([{\"titulo\": \"Endurance\", \"autor\": \"Alfred Lansing\", \"idioma original\": \"English\", \"año de publicación\": \"1959\"},\n",
    "               {\"titulo\": \"South\", \"autor\": \"Ernest Shackleton\", \"idioma original\": \"English\", \"año de publicación\": \"1919\"},\n",
    "               {\"titulo\": \"1984\", \"autor\": \"George Orwell\", \"idioma original\": \"English\", \"año de publicación\": \"1949\"}])\n",
    "\n",
    "print(\"Contenido de la libreria:\", libreria)\n"
   ]
  },
  {
   "cell_type": "markdown",
   "metadata": {
    "id": "glMoedjYRWxJ"
   },
   "source": [
    "## Ejercicio 8\n",
    "Modifica los valores del idioma de todos los libros del ejercicio anterior para que sea \"esperanto\"\n"
   ]
  },
  {
   "cell_type": "code",
   "execution_count": 30,
   "metadata": {
    "id": "veNdC-uwRWxJ"
   },
   "outputs": [
    {
     "name": "stdout",
     "output_type": "stream",
     "text": [
      "Contenido de la libreria traducido al esperanto: [{'titulo': 'Don Quijote de la Mancha', 'autor': 'Cervantes', 'idioma original': 'Esperanto', 'año de publicación': '1605'}, {'titulo': 'Endurance', 'autor': 'Alfred Lansing', 'idioma original': 'Esperanto', 'año de publicación': '1959'}, {'titulo': 'South', 'autor': 'Ernest Shackleton', 'idioma original': 'Esperanto', 'año de publicación': '1919'}, {'titulo': '1984', 'autor': 'George Orwell', 'idioma original': 'Esperanto', 'año de publicación': '1949'}]\n"
     ]
    }
   ],
   "source": [
    "for libro in libreria:\n",
    "    libro[\"idioma original\"] = \"Esperanto\"\n",
    "\n",
    "print(\"Contenido de la libreria traducido al esperanto:\", libreria)"
   ]
  },
  {
   "cell_type": "markdown",
   "metadata": {
    "id": "DRCJG04KRWxJ"
   },
   "source": [
    "## Ejercicio 9\n",
    "1. Escribe un programa que dada una variable titulo busque los libros que hay en la librería con ese título. Si no se encuentra debe devolver el mensaje `Ese no lo tengo, ¿mola?`\n",
    "2. Pruena que el programa con uno de tus libros y con otro que no contenga tu librería."
   ]
  },
  {
   "cell_type": "code",
   "execution_count": 34,
   "metadata": {
    "id": "eWHdJi9BRWxJ"
   },
   "outputs": [
    {
     "name": "stdout",
     "output_type": "stream",
     "text": [
      "Libro buscado: 1984\n",
      "Libros encontrados: [{'titulo': '1984', 'autor': 'George Orwell', 'idioma original': 'Esperanto', 'año de publicación': '1949'}]\n",
      "None\n",
      "-------------------------\n",
      "Libro buscado: Crimen y castigo\n",
      "Ese no lo tengo, ¿mola?\n",
      "None\n"
     ]
    }
   ],
   "source": [
    "## 01\n",
    "def busca_por_titulo(libreria_en_la_que_buscar, titulo_buscado):\n",
    "    print(\"Libro buscado:\", titulo_buscado)\n",
    "    \n",
    "    libros_encontrados = []\n",
    "    for libro in libreria_en_la_que_buscar:\n",
    "        if libro[\"titulo\"] == titulo_buscado:\n",
    "            libros_encontrados.append(libro)\n",
    "\n",
    "    if len(libros_encontrados) == 0:\n",
    "        print(\"Ese no lo tengo, ¿mola?\")\n",
    "    else:\n",
    "        print(\"Libros encontrados:\", libros_encontrados)\n",
    "\n",
    "## 02\n",
    "print(busca_por_titulo(libreria, \"1984\"))\n",
    "print(\"-------------------------\")\n",
    "print(busca_por_titulo(libreria, \"Crimen y castigo\"))\n"
   ]
  },
  {
   "cell_type": "markdown",
   "metadata": {
    "id": "17YOpYuFRWxJ"
   },
   "source": [
    "## Ejercicio 10\n",
    "Convierte el programa del ejercicio 2 en una función al que se le pase el valor a buscar como un argumento posicional"
   ]
  },
  {
   "cell_type": "code",
   "execution_count": 35,
   "metadata": {
    "id": "xbj0LgvnRWxJ"
   },
   "outputs": [
    {
     "name": "stdout",
     "output_type": "stream",
     "text": [
      "Ya lo he hecho de esa forma en el propio ejercicio 2\n"
     ]
    }
   ],
   "source": [
    "print(\"Ya lo he hecho de esa forma en el propio ejercicio 2\")"
   ]
  },
  {
   "cell_type": "markdown",
   "metadata": {
    "id": "xZ-sWJxPRWxJ"
   },
   "source": [
    "## Ejercicio 11\n",
    "Convierte el programa del ejercicio 9 en una función al que se le pasen como argumentos la librería, posicional, y el título, argumento keyword con valor \"ninguno\", por defecto."
   ]
  },
  {
   "cell_type": "code",
   "execution_count": 37,
   "metadata": {
    "id": "4-JrsMdNRWxK"
   },
   "outputs": [
    {
     "name": "stdout",
     "output_type": "stream",
     "text": [
      "Libro buscado: 1984\n",
      "Libros encontrados: [{'titulo': '1984', 'autor': 'George Orwell', 'idioma original': 'Esperanto', 'año de publicación': '1949'}]\n",
      "None\n",
      "-------------------------\n",
      "Libro buscado: Crimen y castigo\n",
      "Ese no lo tengo, ¿mola?\n",
      "None\n"
     ]
    }
   ],
   "source": [
    "## 01\n",
    "def busca_por_titulo(libreria_en_la_que_buscar, titulo_buscado = \"ninguno\"):\n",
    "    print(\"Libro buscado:\", titulo_buscado)\n",
    "    \n",
    "    libros_encontrados = []\n",
    "    for libro in libreria_en_la_que_buscar:\n",
    "        if libro[\"titulo\"] == titulo_buscado:\n",
    "            libros_encontrados.append(libro)\n",
    "\n",
    "    if len(libros_encontrados) == 0:\n",
    "        print(\"Ese no lo tengo, ¿mola?\")\n",
    "    else:\n",
    "        print(\"Libros encontrados:\", libros_encontrados)\n",
    "\n",
    "## 02\n",
    "print(busca_por_titulo(libreria, titulo_buscado =\"1984\"))\n",
    "print(\"-------------------------\")\n",
    "print(busca_por_titulo(libreria, titulo_buscado =\"Crimen y castigo\"))"
   ]
  },
  {
   "cell_type": "markdown",
   "metadata": {
    "id": "FtJir95QRWxK"
   },
   "source": [
    "## Ejercicio 12\n",
    "Solicitar al usuario que ingrese su dirección email. Imprimir un mensaje indicando si la dirección es válida o no, valiéndose de una función para decidirlo. Una dirección se considerará válida si contiene el símbolo \"@\"."
   ]
  },
  {
   "cell_type": "code",
   "execution_count": 40,
   "metadata": {
    "id": "sk852IZ8RWxK"
   },
   "outputs": [
    {
     "name": "stdin",
     "output_type": "stream",
     "text": [
      "Por favor, introduce tu email: asdasqweqwe.com\n"
     ]
    },
    {
     "name": "stdout",
     "output_type": "stream",
     "text": [
      "NO es un email válido\n"
     ]
    }
   ],
   "source": [
    "def es_email_valido(email):\n",
    "    if \"@\" in email:\n",
    "        return True\n",
    "\n",
    "    return False\n",
    "\n",
    "email_usuario = input(\"Por favor, introduce tu email:\")\n",
    "if es_email_valido(email_usuario):\n",
    "    print(\"Es un email válido\")\n",
    "else:\n",
    "    print(\"NO es un email válido\")"
   ]
  },
  {
   "cell_type": "markdown",
   "metadata": {
    "id": "Kw1MWBwBRWxK"
   },
   "source": [
    "## Ejercicio 13\n",
    "Escribe una función que compruebe si un DNI es válido, devolviendo `True` en caso afirmativo.  \n",
    "En primer lugar, el DNI debe tener entre 7 y 8 dígitos numéricos.  \n",
    "Para saber si la letra del DNI es correcta puedes utilizar el siguiente fragmento de código:\n",
    ">```Python\n",
    ">DNI= 55555555\n",
    ">palabra='TRWAGMYFPDXBNJZSQVHLCKE'\n",
    ">print('La letra del DNI es: ', palabra[DNI%23])\n",
    ">````\n"
   ]
  },
  {
   "cell_type": "code",
   "execution_count": 70,
   "metadata": {
    "id": "F5Z9rSHqRWxK"
   },
   "outputs": [
    {
     "name": "stdin",
     "output_type": "stream",
     "text": [
      "Por favor, introduce tu DNI: 72744922q\n"
     ]
    },
    {
     "name": "stdout",
     "output_type": "stream",
     "text": [
      "Es un DNI válido\n"
     ]
    }
   ],
   "source": [
    "def es_dni_valido(dni):\n",
    "    dni_normalizado = get_dni_normalizado(dni)\n",
    "    \n",
    "    parte_numerica = get_parte_numerica(dni_normalizado)\n",
    "    letra = get_letra(dni_normalizado)\n",
    "    \n",
    "    if es_parte_numerica_correcta(parte_numerica) and es_letra_correcta(parte_numerica, letra):\n",
    "        return True\n",
    "        \n",
    "    return False\n",
    "\n",
    "def get_dni_normalizado(dni):\n",
    "    ## Eliminamos los guiones, puntos y los espacios, y pasamos todo a mayúsculas\n",
    "    return dni\\\n",
    "        .replace(\"-\", \"\")\\\n",
    "        .replace(\".\", \"\")\\\n",
    "        .replace(\" \", \"\")\\\n",
    "        .upper()\n",
    "\n",
    "def get_parte_numerica(dni_normalizado):\n",
    "    parte_numerica = \"\"\n",
    "    for caracter in dni_normalizado:\n",
    "        if caracter.isdigit():\n",
    "            parte_numerica += caracter\n",
    "            \n",
    "    return parte_numerica\n",
    "\n",
    "def get_letra(dni_normalizado):\n",
    "    ## Por simplicidad, consideramos el primer caracter no numérico del DNI como la letra (conscientes de que daría por válidas DNIs incorrectos como 72744111XRE)\n",
    "    for caracter in dni_normalizado:\n",
    "        if not caracter.isdigit():\n",
    "            return caracter\n",
    "\n",
    "    return \"\"\n",
    "\n",
    "def es_parte_numerica_correcta(parte_numerica_dni):\n",
    "    longitud_parte_numerica_dni = len(parte_numerica_dni)\n",
    "\n",
    "    if longitud_parte_numerica_dni == 7 or longitud_parte_numerica_dni == 8:\n",
    "        return True\n",
    "    \n",
    "    return False\n",
    "    \n",
    "def es_letra_correcta(parte_numerica_dni, letra_dni):\n",
    "    palabra='TRWAGMYFPDXBNJZSQVHLCKE'\n",
    "\n",
    "    letra_esperada = palabra[int(parte_numerica_dni)%23]\n",
    "    if (letra_esperada == letra_dni):\n",
    "        return True\n",
    "\n",
    "    return False\n",
    "    \n",
    "\n",
    "\n",
    "dni_usuario = input(\"Por favor, introduce tu DNI:\")\n",
    "if es_dni_valido(dni_usuario):\n",
    "    print(\"Es un DNI válido\")\n",
    "else:\n",
    "    print(\"NO es un DNI válido\")"
   ]
  },
  {
   "cell_type": "code",
   "execution_count": null,
   "metadata": {},
   "outputs": [],
   "source": []
  }
 ],
 "metadata": {
  "colab": {
   "provenance": []
  },
  "kernelspec": {
   "display_name": "Python 3 (ipykernel)",
   "language": "python",
   "name": "python3"
  },
  "language_info": {
   "codemirror_mode": {
    "name": "ipython",
    "version": 3
   },
   "file_extension": ".py",
   "mimetype": "text/x-python",
   "name": "python",
   "nbconvert_exporter": "python",
   "pygments_lexer": "ipython3",
   "version": "3.13.7"
  }
 },
 "nbformat": 4,
 "nbformat_minor": 4
}
