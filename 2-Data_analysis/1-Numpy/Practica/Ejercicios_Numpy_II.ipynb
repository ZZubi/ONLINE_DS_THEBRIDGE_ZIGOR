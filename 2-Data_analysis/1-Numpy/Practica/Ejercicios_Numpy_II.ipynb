{
 "cells": [
  {
   "cell_type": "markdown",
   "metadata": {},
   "source": [
    "![imagen](./img/ejercicios.png)"
   ]
  },
  {
   "cell_type": "code",
   "execution_count": 2,
   "metadata": {},
   "outputs": [],
   "source": [
    "import numpy as np"
   ]
  },
  {
   "cell_type": "markdown",
   "metadata": {},
   "source": [
    "## Ejercicio 1\n",
    "1. Crea un array que vaya del 0 al 9 y que se llame `my_array`\n",
    "2. Imprime por pantalla los elementos [9 7 5 3 1] en ese orden."
   ]
  },
  {
   "cell_type": "code",
   "execution_count": 6,
   "metadata": {},
   "outputs": [
    {
     "name": "stdout",
     "output_type": "stream",
     "text": [
      "Orden original: [0 1 2 3 4 5 6 7 8 9]\n",
      "Elementos solicitados: [9 7 5 3 1]\n"
     ]
    }
   ],
   "source": [
    "import numpy as np\n",
    "\n",
    "my_array = np.arange(0,10)\n",
    "print(\"Orden original:\", my_array)\n",
    "\n",
    "print(\"Elementos solicitados:\", my_array[my_array % 2 != 0][::-1])"
   ]
  },
  {
   "cell_type": "markdown",
   "metadata": {},
   "source": [
    "## Ejercicio 2\n",
    "Imprime por pantalla la secuencia [8 7] del array `my_array`"
   ]
  },
  {
   "cell_type": "code",
   "execution_count": 7,
   "metadata": {},
   "outputs": [
    {
     "name": "stdout",
     "output_type": "stream",
     "text": [
      "Elementos solicitados: [8 7]\n"
     ]
    }
   ],
   "source": [
    "print(\"Elementos solicitados:\", my_array[8:6:-1])"
   ]
  },
  {
   "cell_type": "markdown",
   "metadata": {},
   "source": [
    "## Ejercicio 3\n",
    "Imprime por pantalla la secuencia [2 1 0] de `my_array`"
   ]
  },
  {
   "cell_type": "code",
   "execution_count": 10,
   "metadata": {},
   "outputs": [
    {
     "name": "stdout",
     "output_type": "stream",
     "text": [
      "Elementos solicitados: [2 1 0]\n"
     ]
    }
   ],
   "source": [
    "print(\"Elementos solicitados:\", my_array[2::-1])"
   ]
  },
  {
   "cell_type": "markdown",
   "metadata": {},
   "source": [
    "## Ejercicio 4\n",
    "1. Crea una matriz de 4x5, con una secuencia del 1 al 20\n",
    "2. Invierte totalmente la matriz. Tanto las filas, como las columnas"
   ]
  },
  {
   "cell_type": "code",
   "execution_count": 16,
   "metadata": {},
   "outputs": [
    {
     "name": "stdout",
     "output_type": "stream",
     "text": [
      "Matrix original:\n",
      "[[ 1  2  3  4  5]\n",
      " [ 6  7  8  9 10]\n",
      " [11 12 13 14 15]\n",
      " [16 17 18 19 20]]\n",
      "___________________________________________________\n",
      "Filas invertidas:\n",
      "[[16 17 18 19 20]\n",
      " [11 12 13 14 15]\n",
      " [ 6  7  8  9 10]\n",
      " [ 1  2  3  4  5]]\n",
      "___________________________________________________\n",
      "Columnas invertidas:\n",
      "[[ 5  4  3  2  1]\n",
      " [10  9  8  7  6]\n",
      " [15 14 13 12 11]\n",
      " [20 19 18 17 16]]\n"
     ]
    }
   ],
   "source": [
    "matriz_4x5 = np.arange(1,21).reshape(4,5)\n",
    "print(\"Matrix original:\")\n",
    "print(matriz_4x5)\n",
    "print(\"___________________________________________________\")\n",
    "\n",
    "matriz_4x5_invertida_filas = np.flip(matriz_4x5, axis=0)\n",
    "print(\"Filas invertidas:\")\n",
    "print(matriz_4x5_invertida_filas)\n",
    "print(\"___________________________________________________\")\n",
    "\n",
    "\n",
    "matriz_4x5_invertida_columnas = np.flip(matriz_4x5, axis=1)\n",
    "print(\"Columnas invertidas:\")\n",
    "print(matriz_4x5_invertida_columnas)"
   ]
  },
  {
   "cell_type": "markdown",
   "metadata": {},
   "source": [
    "## Ejercicio 5\n",
    "\n",
    "Obtén el siguiente array, partiendo de la matriz del ejercicio 4\n",
    "```Python\n",
    "array([[1, 2],\n",
    "       [6, 7]])\n",
    "```"
   ]
  },
  {
   "cell_type": "code",
   "execution_count": 21,
   "metadata": {},
   "outputs": [
    {
     "name": "stdout",
     "output_type": "stream",
     "text": [
      "_____________________________________________\n",
      "Matriz original:\n",
      "[[ 1  2  3  4  5]\n",
      " [ 6  7  8  9 10]\n",
      " [11 12 13 14 15]\n",
      " [16 17 18 19 20]]\n",
      "_____________________________________________\n",
      "Matriz modificada:\n",
      "[[1 2]\n",
      " [6 7]]\n"
     ]
    }
   ],
   "source": [
    "print(\"_____________________________________________\")\n",
    "print(\"Matriz original:\")\n",
    "matriz_ejercicio_4 = np.arange(1,21).reshape(4,5)\n",
    "print(matriz_ejercicio_4)\n",
    "\n",
    "print(\"_____________________________________________\")\n",
    "print(\"Matriz modificada:\")\n",
    "matriz_modificada = matriz_ejercicio_4[0:2,0:2]\n",
    "print(matriz_modificada)"
   ]
  },
  {
   "cell_type": "markdown",
   "metadata": {},
   "source": [
    "## Ejercicio 6\n",
    "Obtén el siguiente array, partiendo de la matriz del ejercicio 4\n",
    "```Python\n",
    "array([[ 1,  3,  5],\n",
    "       [11, 13, 15]])\n",
    "```"
   ]
  },
  {
   "cell_type": "code",
   "execution_count": 23,
   "metadata": {},
   "outputs": [
    {
     "name": "stdout",
     "output_type": "stream",
     "text": [
      "_____________________________________________\n",
      "Matriz original:\n",
      "[[ 1  2  3  4  5]\n",
      " [ 6  7  8  9 10]\n",
      " [11 12 13 14 15]\n",
      " [16 17 18 19 20]]\n",
      "_____________________________________________\n",
      "Matriz modificada:\n",
      "[[ 1  3  5]\n",
      " [11 13 15]]\n"
     ]
    }
   ],
   "source": [
    "print(\"_____________________________________________\")\n",
    "print(\"Matriz original:\")\n",
    "matriz_ejercicio_4 = np.arange(1,21).reshape(4,5)\n",
    "print(matriz_ejercicio_4)\n",
    "\n",
    "print(\"_____________________________________________\")\n",
    "print(\"Matriz modificada:\")\n",
    "matriz_modificada = matriz_ejercicio_4[0::2,0::2]\n",
    "print(matriz_modificada)"
   ]
  },
  {
   "cell_type": "markdown",
   "metadata": {},
   "source": [
    "## Ejercicio 7\n",
    "Obtén el siguiente array, partiendo de la matriz del ejercicio 4\n",
    "```Python\n",
    "array([[ 5,  4,  3,  2,  1],\n",
    "       [10,  9,  8,  7,  6],\n",
    "       [15, 14, 13, 12, 11]])\n",
    "```"
   ]
  },
  {
   "cell_type": "code",
   "execution_count": 25,
   "metadata": {},
   "outputs": [
    {
     "name": "stdout",
     "output_type": "stream",
     "text": [
      "_____________________________________________\n",
      "Matriz original:\n",
      "[[ 1  2  3  4  5]\n",
      " [ 6  7  8  9 10]\n",
      " [11 12 13 14 15]\n",
      " [16 17 18 19 20]]\n",
      "_____________________________________________\n",
      "Matriz modificada:\n",
      "[[ 5  4  3  2  1]\n",
      " [10  9  8  7  6]\n",
      " [15 14 13 12 11]]\n"
     ]
    }
   ],
   "source": [
    "print(\"_____________________________________________\")\n",
    "print(\"Matriz original:\")\n",
    "matriz_ejercicio_4 = np.arange(1,21).reshape(4,5)\n",
    "print(matriz_ejercicio_4)\n",
    "\n",
    "print(\"_____________________________________________\")\n",
    "print(\"Matriz modificada:\")\n",
    "matriz_modificada = np.flip(matriz_ejercicio_4, axis=1)[0:3]\n",
    "print(matriz_modificada)"
   ]
  },
  {
   "cell_type": "markdown",
   "metadata": {},
   "source": [
    "## Ejercicio 8\n",
    "Dado el siguiente array:\n",
    "\n",
    "```Python\n",
    "x = np.array([\"Loro\", \"Perro\", \"Gato\", \"Loro\", \"Perro\"])\n",
    "```\n",
    "\n",
    "Filtra el array para quedarte únicamente con los loros.\n",
    "\n",
    "Resuélvelo de dos maneras diferentes"
   ]
  },
  {
   "cell_type": "code",
   "execution_count": 28,
   "metadata": {},
   "outputs": [
    {
     "name": "stdout",
     "output_type": "stream",
     "text": [
      "['Loro' 'Loro']\n",
      "['Loro' 'Loro']\n"
     ]
    }
   ],
   "source": [
    "x = np.array([\"Loro\", \"Perro\", \"Gato\", \"Loro\", \"Perro\"])\n",
    "\n",
    "solucion_1 = x[x == \"Loro\"]\n",
    "print(solucion_1)\n",
    "\n",
    "solucion_2 = x[np.char.equal(x, \"Loro\")]\n",
    "print(solucion_2)\n"
   ]
  },
  {
   "cell_type": "markdown",
   "metadata": {},
   "source": [
    "## Ejercicio 9\n",
    "Crea una secuencia de 20 elementos y transfórmala en un array compuesto por 2 matrices de 5x2"
   ]
  },
  {
   "cell_type": "code",
   "execution_count": 30,
   "metadata": {},
   "outputs": [
    {
     "name": "stdout",
     "output_type": "stream",
     "text": [
      "[ 1  2  3  4  5  6  7  8  9 10 11 12 13 14 15 16 17 18 19 20]\n",
      "[[[ 1  2]\n",
      "  [ 3  4]\n",
      "  [ 5  6]\n",
      "  [ 7  8]\n",
      "  [ 9 10]]\n",
      "\n",
      " [[11 12]\n",
      "  [13 14]\n",
      "  [15 16]\n",
      "  [17 18]\n",
      "  [19 20]]]\n"
     ]
    }
   ],
   "source": [
    "ejer_9 = np.arange(1,21)\n",
    "print(ejer_9)\n",
    "\n",
    "ejer_9_reshaped = ejer_9.reshape(2,5,2)\n",
    "print(ejer_9_reshaped)"
   ]
  },
  {
   "cell_type": "markdown",
   "metadata": {},
   "source": [
    "## Ejercicio 10\n",
    "\n",
    "Crea un array de 10 0s. ¿Cuánto ocupa en memoria?\n",
    "\n",
    "Sustituye el 4to elemento por 1, e imprime el array por pantalla"
   ]
  },
  {
   "cell_type": "code",
   "execution_count": 32,
   "metadata": {},
   "outputs": [
    {
     "name": "stdout",
     "output_type": "stream",
     "text": [
      "[0 0 0 0 0 0 0 0 0 0]\n",
      "[0 0 0 1 0 0 0 0 0 0]\n"
     ]
    }
   ],
   "source": [
    "ejer_10 = np.full(10, 0)\n",
    "print(ejer_10)\n",
    "\n",
    "ejer_10[3] = 1\n",
    "print(ejer_10)"
   ]
  },
  {
   "cell_type": "markdown",
   "metadata": {},
   "source": [
    "## Ejercicio 11\n",
    "\n",
    "Crea un vector que vaya del 10 al 49\n",
    "\n",
    "Inviértelo"
   ]
  },
  {
   "cell_type": "code",
   "execution_count": 35,
   "metadata": {},
   "outputs": [
    {
     "name": "stdout",
     "output_type": "stream",
     "text": [
      "[10 11 12 13 14 15 16 17 18 19 20 21 22 23 24 25 26 27 28 29 30 31 32 33\n",
      " 34 35 36 37 38 39 40 41 42 43 44 45 46 47 48 49]\n",
      "[49 48 47 46 45 44 43 42 41 40 39 38 37 36 35 34 33 32 31 30 29 28 27 26\n",
      " 25 24 23 22 21 20 19 18 17 16 15 14 13 12 11 10]\n"
     ]
    }
   ],
   "source": [
    "ejer_11 = np.arange(10,50)\n",
    "print(ejer_11)\n",
    "\n",
    "ejer_11 = ejer_11[::-1]\n",
    "print(ejer_11)"
   ]
  },
  {
   "cell_type": "markdown",
   "metadata": {},
   "source": [
    "## Ejercicio 12\n",
    "Encuentra los índices de los valores que no sean 0 del siguiente vector [1,2,0,0,4,0]. El output sería [0, 1, 4]. [Encuentra el método apropiado en la documentación.](https://numpy.org/doc/) Encapsúlalo en una función, con un argumento de entrada de un vector."
   ]
  },
  {
   "cell_type": "code",
   "execution_count": 40,
   "metadata": {},
   "outputs": [
    {
     "name": "stdout",
     "output_type": "stream",
     "text": [
      "[1 2 0 0 4 0]\n",
      "[0 1 4]\n"
     ]
    }
   ],
   "source": [
    "ejer_12 = np.array([1,2,0,0,4,0])\n",
    "print(ejer_12)\n",
    "\n",
    "\n",
    "def get_indices_donde_no_haya_un_cero(vector: np.ndarray):\n",
    "    indexes = np.where(vector != 0)[0]\n",
    "    return indexes\n",
    "\n",
    "indices_donde_no_hay_un_cero = get_indices_donde_no_haya_un_cero(ejer_12)\n",
    "print(indices_donde_no_hay_un_cero)"
   ]
  },
  {
   "attachments": {},
   "cell_type": "markdown",
   "metadata": {},
   "source": [
    "## Ejercicio 13\n",
    "Crea una matriz de números aleatorios 10x10. Encuentra los valores mínimo y máximo."
   ]
  },
  {
   "cell_type": "code",
   "execution_count": 6,
   "metadata": {},
   "outputs": [
    {
     "name": "stdout",
     "output_type": "stream",
     "text": [
      "[[56 89 95 74 41 89 29 11 75 58]\n",
      " [32 35 80 55 94 73 57 70 56 51]\n",
      " [28 12 27 65 18  0 62 18 78 39]\n",
      " [25  9 35 44 27 95 66  3 37 49]\n",
      " [ 7 94 32  2 34 99 10  3 71 18]\n",
      " [46 91 66 82 32 59 74 98 63 23]\n",
      " [35 46  2 94 55 65 81 13 64 22]\n",
      " [59 87 49 35 65 47 60 59 99 90]\n",
      " [10 40 18 36 55 37 77  9 58 51]\n",
      " [27 55 36 71 89  5  7 24 80  0]]\n",
      "Num máximo: 99\n",
      "Num mínimo: 0\n"
     ]
    }
   ],
   "source": [
    "ejer_13 = np.random.randint(0,100, size=(10,10))\n",
    "print(ejer_13)\n",
    "\n",
    "print(\"Num máximo:\", np.max(ejer_13))\n",
    "print(\"Num mínimo:\", np.min(ejer_13))"
   ]
  },
  {
   "cell_type": "markdown",
   "metadata": {},
   "source": [
    "## Ejercicio 14\n",
    "Crea un vector aleatorio de tamaño 30 y calcula su media"
   ]
  },
  {
   "cell_type": "code",
   "execution_count": 8,
   "metadata": {},
   "outputs": [
    {
     "name": "stdout",
     "output_type": "stream",
     "text": [
      "[0.70432385 0.79533333 0.73330905 0.07878303 0.83419304 0.74279268\n",
      " 0.0059292  0.26239206 0.11929174 0.60766321 0.76611474 0.38617766\n",
      " 0.32706077 0.83571298 0.04725415 0.54479504 0.36795416 0.99663143\n",
      " 0.54342023 0.94299967 0.63387883 0.55567185 0.62055447 0.39339276\n",
      " 0.23564537 0.4912113  0.46729566 0.5639088  0.82082009 0.01029051]\n",
      "Media del vector: 0.5144933885763276\n"
     ]
    }
   ],
   "source": [
    "ejer_14 = np.random.random(30)\n",
    "print(ejer_14)\n",
    "\n",
    "print(\"Media del vector:\", np.mean(ejer_14))"
   ]
  },
  {
   "cell_type": "markdown",
   "metadata": {},
   "source": [
    "## Ejercicio 15\n",
    "Crea un array cuadrado de 2D, con las dimensiones que quieras, pero que todo el borde esté compuesto por 1s, y el interior por 0s"
   ]
  },
  {
   "cell_type": "code",
   "execution_count": 23,
   "metadata": {},
   "outputs": [
    {
     "name": "stdout",
     "output_type": "stream",
     "text": [
      "[[1 1 1 1 1 1 1 1 1 1 1 1]\n",
      " [1 0 0 0 0 0 0 0 0 0 0 1]\n",
      " [1 0 0 0 0 0 0 0 0 0 0 1]\n",
      " [1 0 0 0 0 0 0 0 0 0 0 1]\n",
      " [1 0 0 0 0 0 0 0 0 0 0 1]\n",
      " [1 0 0 0 0 0 0 0 0 0 0 1]\n",
      " [1 0 0 0 0 0 0 0 0 0 0 1]\n",
      " [1 0 0 0 0 0 0 0 0 0 0 1]\n",
      " [1 0 0 0 0 0 0 0 0 0 0 1]\n",
      " [1 0 0 0 0 0 0 0 0 0 0 1]\n",
      " [1 0 0 0 0 0 0 0 0 0 0 1]\n",
      " [1 1 1 1 1 1 1 1 1 1 1 1]]\n"
     ]
    }
   ],
   "source": [
    "ejer_15 = np.full((12,12), 0)\n",
    "ejer_15[0, :] = 1\n",
    "ejer_15[-1, :] = 1\n",
    "ejer_15[:, 0] = 1\n",
    "ejer_15[:, -1] = 1\n",
    "\n",
    "print(ejer_15)"
   ]
  },
  {
   "cell_type": "markdown",
   "metadata": {},
   "source": [
    "## Ejercicio 16\n",
    "Crea una matriz de 8x8, y rellénala con 0s y 1s. Tienes que replicar:\n",
    "```Python\n",
    "[[0 1 0 1 0 1 0 1]\n",
    " [1 0 1 0 1 0 1 0]\n",
    " [0 1 0 1 0 1 0 1]\n",
    " [1 0 1 0 1 0 1 0]\n",
    " [0 1 0 1 0 1 0 1]\n",
    " [1 0 1 0 1 0 1 0]\n",
    " [0 1 0 1 0 1 0 1]\n",
    " [1 0 1 0 1 0 1 0]]\n",
    "```"
   ]
  },
  {
   "cell_type": "code",
   "execution_count": 30,
   "metadata": {},
   "outputs": [
    {
     "name": "stdout",
     "output_type": "stream",
     "text": [
      "[[0 1 0 1 0 1 0 1]\n",
      " [1 0 1 0 1 0 1 0]\n",
      " [0 1 0 1 0 1 0 1]\n",
      " [1 0 1 0 1 0 1 0]\n",
      " [0 1 0 1 0 1 0 1]\n",
      " [1 0 1 0 1 0 1 0]\n",
      " [0 1 0 1 0 1 0 1]\n",
      " [1 0 1 0 1 0 1 0]]\n"
     ]
    }
   ],
   "source": [
    "ejer_16 = np.full((8,8), 0)\n",
    "\n",
    "ejer_16[0::2, 1::2] = 1\n",
    "ejer_16[1::2, 0::2] = 1\n",
    "print(ejer_16)"
   ]
  },
  {
   "cell_type": "markdown",
   "metadata": {},
   "source": [
    "## Ejercicio 17\n",
    "Replica la matriz del apartado anterior, pero en este caso usando [la función `tile`](https://numpy.org/doc/stable/reference/generated/numpy.tile.html)"
   ]
  },
  {
   "cell_type": "code",
   "execution_count": null,
   "metadata": {},
   "outputs": [
    {
     "name": "stdout",
     "output_type": "stream",
     "text": [
      "[[0 1]\n",
      " [1 0]]\n",
      "[[0 1 0 1 0 1 0 1]\n",
      " [1 0 1 0 1 0 1 0]\n",
      " [0 1 0 1 0 1 0 1]\n",
      " [1 0 1 0 1 0 1 0]\n",
      " [0 1 0 1 0 1 0 1]\n",
      " [1 0 1 0 1 0 1 0]\n",
      " [0 1 0 1 0 1 0 1]\n",
      " [1 0 1 0 1 0 1 0]]\n"
     ]
    }
   ],
   "source": [
    "ejer_17_base = np.array([[0,1],[1,0]])\n",
    "print(ejer_17_base)\n",
    "\n",
    "ejer_17 = np.tile(ejer_17_base, (4,4))\n",
    "print(ejer_17)"
   ]
  },
  {
   "cell_type": "markdown",
   "metadata": {},
   "source": [
    "## Ejercicio 18\n",
    "Crea una matriz aleatoria de 5x5 y normaliza sus valores. Para normalizar tienes que restar sus valores por la media(`np.mean`) y dividir el resultado por la desviación estándar(`np.std`)."
   ]
  },
  {
   "cell_type": "code",
   "execution_count": 39,
   "metadata": {},
   "outputs": [
    {
     "name": "stdout",
     "output_type": "stream",
     "text": [
      "[[44 89 72 64 38]\n",
      " [28 65 97 76  4]\n",
      " [83 96 26 31 29]\n",
      " [95 23  1 51 11]\n",
      " [53 91 98 46 30]]\n",
      "Media 53.64\n",
      "Desviación estándar: 30.61356562048923\n",
      "[[-0.31489308  1.1550435   0.59973413  0.33841207 -0.51088463]\n",
      " [-0.8375372   0.37107732  1.41636556  0.73039515 -1.62150338]\n",
      " [ 0.95905196  1.3837003  -0.90286771 -0.73954143 -0.80487194]\n",
      " [ 1.35103504 -1.00086349 -1.71949915 -0.08623628 -1.39284657]\n",
      " [-0.02090576  1.22037402  1.44903082 -0.24956257 -0.77220668]]\n"
     ]
    }
   ],
   "source": [
    "ejer_18 = np.random.randint(0, 99, (5, 5))\n",
    "print(ejer_18)\n",
    "\n",
    "media = np.mean(ejer_18)\n",
    "print(\"Media\", media)\n",
    "\n",
    "desviacion_estandar = np.std(ejer_18)\n",
    "print(\"Desviación estándar:\", desviacion_estandar)\n",
    "\n",
    "ejer_18_normalizada = (ejer_18[:,:] - media) / desviacion_estandar\n",
    "print(ejer_18_normalizada)\n"
   ]
  },
  {
   "cell_type": "markdown",
   "metadata": {},
   "source": [
    "## Ejercicio 19\n",
    "1. Crea una secuencia de números que vayan del 0 al 10.\n",
    "2. Crea un nuevo array, que parta del anterior, pero sustituya por el valor -1, todos los elementos cuyo valor se encuentre entre el 3 y el 8.\n",
    "3. Crea un nuevo array que niegue todos los elementos entre el 3 y el 8"
   ]
  },
  {
   "cell_type": "code",
   "execution_count": null,
   "metadata": {
    "vscode": {
     "languageId": "julia"
    }
   },
   "outputs": [
    {
     "name": "stdout",
     "output_type": "stream",
     "text": [
      "[ 0  1  2  3  4  5  6  7  8  9 10]\n",
      "[ 0  1  2 -1 -1 -1 -1 -1 -1  9 10]\n",
      "[ 0  1  2 -3 -4 -5 -6 -7 -8  9 10]\n"
     ]
    }
   ],
   "source": [
    "secuencia = np.arange(0,11)\n",
    "print(secuencia)\n",
    "\n",
    "secuencia_2 = secuencia.copy()\n",
    "secuencia_2[(secuencia_2 >= 3) & (secuencia_2 <= 8)] = -1\n",
    "print(secuencia_2)\n",
    "\n",
    "secuencia_3 = secuencia.copy()\n",
    "secuencia_3[(secuencia_3 >= 3) & (secuencia_3 <= 8)] *= -1 ## Hola Andrea! Aquí considero que negar quiere decir cambiar el signo del entero como hemos hablado ;) \n",
    "print(secuencia_3)"
   ]
  },
  {
   "cell_type": "code",
   "execution_count": null,
   "metadata": {},
   "outputs": [],
   "source": []
  }
 ],
 "metadata": {
  "kernelspec": {
   "display_name": "Python 3",
   "language": "python",
   "name": "python3"
  },
  "language_info": {
   "codemirror_mode": {
    "name": "ipython",
    "version": 3
   },
   "file_extension": ".py",
   "mimetype": "text/x-python",
   "name": "python",
   "nbconvert_exporter": "python",
   "pygments_lexer": "ipython3",
   "version": "3.12.10"
  }
 },
 "nbformat": 4,
 "nbformat_minor": 4
}
