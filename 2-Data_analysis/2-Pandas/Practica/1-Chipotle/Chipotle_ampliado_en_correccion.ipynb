{
 "cells": [
  {
   "attachments": {},
   "cell_type": "markdown",
   "metadata": {},
   "source": [
    "# Ex1 - Filtering and Sorting Data"
   ]
  },
  {
   "attachments": {},
   "cell_type": "markdown",
   "metadata": {},
   "source": [
    "\n",
    "\n",
    "### Step 1. Import the necessary libraries"
   ]
  },
  {
   "cell_type": "code",
   "execution_count": 2,
   "metadata": {},
   "outputs": [],
   "source": [
    "import pandas as pd"
   ]
  },
  {
   "attachments": {},
   "cell_type": "markdown",
   "metadata": {},
   "source": [
    "### Step 2. Import the dataset from this [address](https://raw.githubusercontent.com/justmarkham/DAT8/master/data/chipotle.tsv) and assign it to a variable called chipo."
   ]
  },
  {
   "cell_type": "code",
   "execution_count": 3,
   "metadata": {},
   "outputs": [
    {
     "name": "stdout",
     "output_type": "stream",
     "text": [
      "<class 'pandas.core.frame.DataFrame'>\n",
      "RangeIndex: 4622 entries, 0 to 4621\n",
      "Data columns (total 5 columns):\n",
      " #   Column              Non-Null Count  Dtype \n",
      "---  ------              --------------  ----- \n",
      " 0   order_id            4622 non-null   int64 \n",
      " 1   quantity            4622 non-null   int64 \n",
      " 2   item_name           4622 non-null   object\n",
      " 3   choice_description  3376 non-null   object\n",
      " 4   item_price          4622 non-null   object\n",
      "dtypes: int64(2), object(3)\n",
      "memory usage: 180.7+ KB\n"
     ]
    },
    {
     "data": {
      "text/html": [
       "<div>\n",
       "<style scoped>\n",
       "    .dataframe tbody tr th:only-of-type {\n",
       "        vertical-align: middle;\n",
       "    }\n",
       "\n",
       "    .dataframe tbody tr th {\n",
       "        vertical-align: top;\n",
       "    }\n",
       "\n",
       "    .dataframe thead th {\n",
       "        text-align: right;\n",
       "    }\n",
       "</style>\n",
       "<table border=\"1\" class=\"dataframe\">\n",
       "  <thead>\n",
       "    <tr style=\"text-align: right;\">\n",
       "      <th></th>\n",
       "      <th>order_id</th>\n",
       "      <th>quantity</th>\n",
       "      <th>item_name</th>\n",
       "      <th>choice_description</th>\n",
       "      <th>item_price</th>\n",
       "    </tr>\n",
       "  </thead>\n",
       "  <tbody>\n",
       "    <tr>\n",
       "      <th>0</th>\n",
       "      <td>1</td>\n",
       "      <td>1</td>\n",
       "      <td>Chips and Fresh Tomato Salsa</td>\n",
       "      <td>NaN</td>\n",
       "      <td>$2.39</td>\n",
       "    </tr>\n",
       "    <tr>\n",
       "      <th>1</th>\n",
       "      <td>1</td>\n",
       "      <td>1</td>\n",
       "      <td>Izze</td>\n",
       "      <td>[Clementine]</td>\n",
       "      <td>$3.39</td>\n",
       "    </tr>\n",
       "    <tr>\n",
       "      <th>2</th>\n",
       "      <td>1</td>\n",
       "      <td>1</td>\n",
       "      <td>Nantucket Nectar</td>\n",
       "      <td>[Apple]</td>\n",
       "      <td>$3.39</td>\n",
       "    </tr>\n",
       "    <tr>\n",
       "      <th>3</th>\n",
       "      <td>1</td>\n",
       "      <td>1</td>\n",
       "      <td>Chips and Tomatillo-Green Chili Salsa</td>\n",
       "      <td>NaN</td>\n",
       "      <td>$2.39</td>\n",
       "    </tr>\n",
       "    <tr>\n",
       "      <th>4</th>\n",
       "      <td>2</td>\n",
       "      <td>2</td>\n",
       "      <td>Chicken Bowl</td>\n",
       "      <td>[Tomatillo-Red Chili Salsa (Hot), [Black Beans...</td>\n",
       "      <td>$16.98</td>\n",
       "    </tr>\n",
       "    <tr>\n",
       "      <th>...</th>\n",
       "      <td>...</td>\n",
       "      <td>...</td>\n",
       "      <td>...</td>\n",
       "      <td>...</td>\n",
       "      <td>...</td>\n",
       "    </tr>\n",
       "    <tr>\n",
       "      <th>4617</th>\n",
       "      <td>1833</td>\n",
       "      <td>1</td>\n",
       "      <td>Steak Burrito</td>\n",
       "      <td>[Fresh Tomato Salsa, [Rice, Black Beans, Sour ...</td>\n",
       "      <td>$11.75</td>\n",
       "    </tr>\n",
       "    <tr>\n",
       "      <th>4618</th>\n",
       "      <td>1833</td>\n",
       "      <td>1</td>\n",
       "      <td>Steak Burrito</td>\n",
       "      <td>[Fresh Tomato Salsa, [Rice, Sour Cream, Cheese...</td>\n",
       "      <td>$11.75</td>\n",
       "    </tr>\n",
       "    <tr>\n",
       "      <th>4619</th>\n",
       "      <td>1834</td>\n",
       "      <td>1</td>\n",
       "      <td>Chicken Salad Bowl</td>\n",
       "      <td>[Fresh Tomato Salsa, [Fajita Vegetables, Pinto...</td>\n",
       "      <td>$11.25</td>\n",
       "    </tr>\n",
       "    <tr>\n",
       "      <th>4620</th>\n",
       "      <td>1834</td>\n",
       "      <td>1</td>\n",
       "      <td>Chicken Salad Bowl</td>\n",
       "      <td>[Fresh Tomato Salsa, [Fajita Vegetables, Lettu...</td>\n",
       "      <td>$8.75</td>\n",
       "    </tr>\n",
       "    <tr>\n",
       "      <th>4621</th>\n",
       "      <td>1834</td>\n",
       "      <td>1</td>\n",
       "      <td>Chicken Salad Bowl</td>\n",
       "      <td>[Fresh Tomato Salsa, [Fajita Vegetables, Pinto...</td>\n",
       "      <td>$8.75</td>\n",
       "    </tr>\n",
       "  </tbody>\n",
       "</table>\n",
       "<p>4622 rows × 5 columns</p>\n",
       "</div>"
      ],
      "text/plain": [
       "      order_id  quantity                              item_name  \\\n",
       "0            1         1           Chips and Fresh Tomato Salsa   \n",
       "1            1         1                                   Izze   \n",
       "2            1         1                       Nantucket Nectar   \n",
       "3            1         1  Chips and Tomatillo-Green Chili Salsa   \n",
       "4            2         2                           Chicken Bowl   \n",
       "...        ...       ...                                    ...   \n",
       "4617      1833         1                          Steak Burrito   \n",
       "4618      1833         1                          Steak Burrito   \n",
       "4619      1834         1                     Chicken Salad Bowl   \n",
       "4620      1834         1                     Chicken Salad Bowl   \n",
       "4621      1834         1                     Chicken Salad Bowl   \n",
       "\n",
       "                                     choice_description item_price  \n",
       "0                                                   NaN     $2.39   \n",
       "1                                          [Clementine]     $3.39   \n",
       "2                                               [Apple]     $3.39   \n",
       "3                                                   NaN     $2.39   \n",
       "4     [Tomatillo-Red Chili Salsa (Hot), [Black Beans...    $16.98   \n",
       "...                                                 ...        ...  \n",
       "4617  [Fresh Tomato Salsa, [Rice, Black Beans, Sour ...    $11.75   \n",
       "4618  [Fresh Tomato Salsa, [Rice, Sour Cream, Cheese...    $11.75   \n",
       "4619  [Fresh Tomato Salsa, [Fajita Vegetables, Pinto...    $11.25   \n",
       "4620  [Fresh Tomato Salsa, [Fajita Vegetables, Lettu...     $8.75   \n",
       "4621  [Fresh Tomato Salsa, [Fajita Vegetables, Pinto...     $8.75   \n",
       "\n",
       "[4622 rows x 5 columns]"
      ]
     },
     "execution_count": 3,
     "metadata": {},
     "output_type": "execute_result"
    }
   ],
   "source": [
    "chipo = pd.read_csv(\"https://raw.githubusercontent.com/justmarkham/DAT8/master/data/chipotle.tsv\", sep=\"\t\")\n",
    "chipo.info()\n",
    "chipo"
   ]
  },
  {
   "attachments": {},
   "cell_type": "markdown",
   "metadata": {},
   "source": [
    "### Step 3. Name of the max valued product"
   ]
  },
  {
   "cell_type": "code",
   "execution_count": 13,
   "metadata": {},
   "outputs": [
    {
     "name": "stdout",
     "output_type": "stream",
     "text": [
      "El producto más caro es 'Steak Salad Bowl', con un precio unitario de 11.89 $\n",
      "Productos con el mismo precio: ['Steak Salad Bowl' 'Carnitas Salad Bowl' 'Barbacoa Salad Bowl']\n",
      "Productos con el mismo precio:\n"
     ]
    },
    {
     "data": {
      "text/html": [
       "<div>\n",
       "<style scoped>\n",
       "    .dataframe tbody tr th:only-of-type {\n",
       "        vertical-align: middle;\n",
       "    }\n",
       "\n",
       "    .dataframe tbody tr th {\n",
       "        vertical-align: top;\n",
       "    }\n",
       "\n",
       "    .dataframe thead th {\n",
       "        text-align: right;\n",
       "    }\n",
       "</style>\n",
       "<table border=\"1\" class=\"dataframe\">\n",
       "  <thead>\n",
       "    <tr style=\"text-align: right;\">\n",
       "      <th></th>\n",
       "      <th>item_name</th>\n",
       "      <th>product_price_float</th>\n",
       "    </tr>\n",
       "  </thead>\n",
       "  <tbody>\n",
       "    <tr>\n",
       "      <th>281</th>\n",
       "      <td>Steak Salad Bowl</td>\n",
       "      <td>11.89</td>\n",
       "    </tr>\n",
       "    <tr>\n",
       "      <th>1132</th>\n",
       "      <td>Carnitas Salad Bowl</td>\n",
       "      <td>11.89</td>\n",
       "    </tr>\n",
       "    <tr>\n",
       "      <th>1229</th>\n",
       "      <td>Barbacoa Salad Bowl</td>\n",
       "      <td>11.89</td>\n",
       "    </tr>\n",
       "  </tbody>\n",
       "</table>\n",
       "</div>"
      ],
      "text/plain": [
       "                item_name  product_price_float\n",
       "281      Steak Salad Bowl                11.89\n",
       "1132  Carnitas Salad Bowl                11.89\n",
       "1229  Barbacoa Salad Bowl                11.89"
      ]
     },
     "execution_count": 13,
     "metadata": {},
     "output_type": "execute_result"
    }
   ],
   "source": [
    "chipo[\"item_price_float\"] = chipo.item_price.str.replace(\"$\", \"\").astype(float) ## Remove the currency symbol and create a new float type column\n",
    "chipo[\"product_price_float\"] = chipo.item_price_float / chipo.quantity\n",
    "most_expesive_product = chipo.iloc[chipo.product_price_float.idxmax()]\n",
    "print(f\"El producto más caro es '{most_expesive_product.item_name}', con un precio unitario de {most_expesive_product.product_price_float} $\", )\n",
    "\n",
    "## En realidad hay varios productos con el mismo precio, podemos verlo así:\n",
    "mask = chipo.product_price_float == chipo.product_price_float.max()\n",
    "productos_con_el_precio_mas_alto = chipo.loc[mask, \"item_name\"].unique()\n",
    "print(\"Productos con el mismo precio:\", productos_con_el_precio_mas_alto)\n",
    "\n",
    "# Y otra función más que nos permite mostrarlo mejor (drop_duplicates)\n",
    "productos_con_el_precio_mas_alto_2 = chipo.loc[mask, [\"item_name\", \"product_price_float\"]].drop_duplicates(\"item_name\")\n",
    "print(\"Productos con el mismo precio:\")\n",
    "productos_con_el_precio_mas_alto_2\n"
   ]
  },
  {
   "attachments": {},
   "cell_type": "markdown",
   "metadata": {},
   "source": [
    "### Step 4. How many products cost more than $10.00?"
   ]
  },
  {
   "cell_type": "code",
   "execution_count": 17,
   "metadata": {},
   "outputs": [
    {
     "name": "stdout",
     "output_type": "stream",
     "text": [
      "Hay 25 productos que cuestan más de 10 $, son estos: ['Chicken Bowl' 'Steak Burrito' 'Chicken Burrito' 'Barbacoa Bowl'\n",
      " 'Veggie Burrito' 'Veggie Bowl' 'Chicken Soft Tacos' 'Steak Bowl'\n",
      " 'Carnitas Burrito' 'Carnitas Bowl' 'Barbacoa Burrito'\n",
      " 'Chicken Salad Bowl' 'Barbacoa Crispy Tacos' 'Veggie Salad Bowl'\n",
      " 'Chicken Salad' 'Steak Salad Bowl' 'Chicken Crispy Tacos'\n",
      " 'Veggie Soft Tacos' 'Barbacoa Soft Tacos' 'Carnitas Crispy Tacos'\n",
      " 'Carnitas Salad Bowl' 'Barbacoa Salad Bowl' 'Steak Soft Tacos'\n",
      " 'Carnitas Soft Tacos' 'Steak Crispy Tacos']\n"
     ]
    },
    {
     "data": {
      "text/plain": [
       "25"
      ]
     },
     "execution_count": 17,
     "metadata": {},
     "output_type": "execute_result"
    }
   ],
   "source": [
    "mask = chipo.product_price_float > 10\n",
    "order_lines_with_product_price_above_10 = chipo[mask]\n",
    "unique_products_with_price_above_10 = order_lines_with_product_price_above_10.item_name.unique()\n",
    "print(f\"Hay {len(unique_products_with_price_above_10)} productos que cuestan más de 10 $, son estos:\", unique_products_with_price_above_10)\n",
    "\n",
    "# Otra forma (nunique()):\n",
    "chipo[mask][\"item_name\"].nunique()"
   ]
  },
  {
   "attachments": {},
   "cell_type": "markdown",
   "metadata": {},
   "source": [
    "### Step 4.1: Y cuántos pedidos se han hecho con un producto de más de 10$? Es lo mismo?"
   ]
  },
  {
   "cell_type": "code",
   "execution_count": 18,
   "metadata": {},
   "outputs": [
    {
     "name": "stdout",
     "output_type": "stream",
     "text": [
      "Hay 787 pedidos que continenen al menos un producto que cuesta más de 10 $, son estos:\n",
      "[   3    4    7   12   19   20   21   24   26   27   28   30   35   40\n",
      "   41   43   54   57   59   60   61   62   63   64   65   66   71   72\n",
      "   73   74   75   79   80   83   84   86   89   90   93   94   95   99\n",
      "  103  107  109  114  123  126  127  128  129  132  134  140  144  146\n",
      "  147  148  149  152  157  158  159  163  165  166  168  170  171  174\n",
      "  175  176  177  178  179  180  186  189  192  195  196  198  202  203\n",
      "  204  205  206  207  210  211  212  222  227  228  229  231  235  238\n",
      "  239  241  242  243  245  248  250  253  256  258  261  262  269  273\n",
      "  277  278  282  283  284  290  293  295  297  300  304  305  306  308\n",
      "  309  316  317  324  327  328  329  337  338  339  341  343  347  350\n",
      "  356  357  358  360  361  362  365  367  369  372  373  374  375  379\n",
      "  380  384  387  396  398  400  404  405  406  407  408  409  413  420\n",
      "  423  428  429  431  434  435  438  439  441  442  443  446  450  451\n",
      "  452  453  455  456  459  461  462  464  467  468  469  472  474  478\n",
      "  479  483  487  488  491  492  493  494  498  501  502  503  504  507\n",
      "  509  512  518  519  526  527  528  529  534  538  539  541  545  546\n",
      "  548  551  552  553  556  557  561  562  564  566  568  570  571  577\n",
      "  578  579  582  587  588  589  593  596  597  599  600  603  605  609\n",
      "  612  618  620  621  622  627  628  630  632  635  637  640  644  645\n",
      "  646  647  649  652  653  654  657  658  659  660  664  666  669  672\n",
      "  673  679  682  684  687  688  691  692  693  694  697  701  702  704\n",
      "  705  707  708  712  713  716  718  719  721  722  727  731  734  737\n",
      "  741  754  755  759  760  761  766  767  770  774  777  780  782  784\n",
      "  785  790  791  792  793  794  801  802  804  806  807  810  812  814\n",
      "  815  818  819  821  823  825  830  833  836  837  839  842  843  845\n",
      "  849  850  851  855  856  859  863  864  865  869  870  871  872  874\n",
      "  875  879  881  885  886  887  890  893  894  898  899  900  901  902\n",
      "  905  908  914  916  917  920  929  930  933  937  939  941  943  948\n",
      "  949  951  952  953  956  957  958  960  962  963  964  966  968  969\n",
      "  970  973  975  976  977  979  980  981  983  985  987  988  989  991\n",
      "  994  995  996  997 1000 1003 1004 1006 1010 1012 1013 1015 1016 1017\n",
      " 1019 1021 1022 1025 1033 1034 1035 1036 1037 1038 1039 1043 1044 1047\n",
      " 1049 1051 1052 1057 1058 1061 1062 1063 1064 1069 1070 1075 1076 1078\n",
      " 1079 1080 1082 1086 1087 1088 1091 1092 1096 1097 1098 1101 1104 1106\n",
      " 1107 1109 1110 1111 1113 1114 1116 1123 1126 1134 1138 1139 1144 1146\n",
      " 1149 1150 1151 1153 1154 1155 1157 1158 1159 1160 1163 1165 1166 1168\n",
      " 1169 1170 1171 1175 1176 1185 1188 1189 1191 1193 1196 1199 1200 1203\n",
      " 1206 1208 1209 1214 1218 1221 1222 1223 1224 1228 1232 1233 1234 1238\n",
      " 1239 1243 1244 1248 1252 1253 1255 1257 1269 1270 1273 1276 1279 1280\n",
      " 1282 1283 1284 1286 1287 1289 1292 1294 1296 1297 1301 1302 1304 1311\n",
      " 1313 1316 1317 1322 1323 1328 1331 1334 1337 1339 1343 1344 1350 1353\n",
      " 1356 1357 1360 1361 1362 1364 1366 1368 1370 1381 1382 1383 1384 1385\n",
      " 1386 1387 1388 1391 1392 1394 1397 1398 1400 1403 1408 1409 1410 1411\n",
      " 1412 1413 1415 1418 1422 1424 1425 1426 1428 1429 1434 1435 1440 1443\n",
      " 1444 1445 1451 1453 1455 1456 1458 1460 1461 1462 1470 1472 1473 1474\n",
      " 1476 1477 1480 1483 1486 1492 1493 1495 1496 1497 1499 1501 1502 1508\n",
      " 1511 1512 1513 1514 1518 1519 1521 1522 1523 1526 1531 1534 1538 1539\n",
      " 1540 1544 1545 1546 1547 1550 1551 1553 1554 1561 1567 1571 1577 1583\n",
      " 1586 1587 1588 1589 1594 1601 1607 1611 1613 1614 1615 1619 1625 1627\n",
      " 1632 1633 1636 1639 1643 1646 1647 1648 1655 1656 1657 1659 1660 1661\n",
      " 1662 1663 1664 1667 1672 1673 1674 1677 1680 1681 1684 1686 1688 1692\n",
      " 1695 1696 1699 1700 1701 1703 1706 1708 1710 1713 1715 1716 1717 1718\n",
      " 1720 1723 1724 1725 1726 1728 1730 1731 1733 1735 1736 1737 1739 1742\n",
      " 1744 1745 1747 1748 1749 1750 1751 1754 1756 1760 1764 1765 1766 1768\n",
      " 1770 1772 1773 1775 1780 1781 1782 1784 1786 1788 1789 1790 1791 1792\n",
      " 1793 1796 1798 1802 1805 1810 1811 1812 1815 1820 1822 1824 1825 1829\n",
      " 1830 1833 1834]\n"
     ]
    }
   ],
   "source": [
    "unique_orders_with_at_least_one_product_priced_above_10 = order_lines_with_product_price_above_10.order_id.unique()\n",
    "print(f\"Hay {len(unique_orders_with_at_least_one_product_priced_above_10)} pedidos que continenen al menos un producto que cuesta más de 10 $, son estos:\")\n",
    "print(unique_orders_with_at_least_one_product_priced_above_10)\n",
    "\n",
    "# Evidentemente, no es lo mismo :) "
   ]
  },
  {
   "cell_type": "markdown",
   "metadata": {},
   "source": [
    "### Step 4.2: Y cuántos pedidos se han hecho de más de 10$? Es lo mismo?"
   ]
  },
  {
   "cell_type": "code",
   "execution_count": 90,
   "metadata": {},
   "outputs": [
    {
     "name": "stdout",
     "output_type": "stream",
     "text": [
      "Número de pedidos de más de 10 $: 1834\n",
      "      order_id  total_order_amount\n",
      "0            1               11.56\n",
      "1            2               16.98\n",
      "2            3               12.67\n",
      "3            4               21.00\n",
      "4            5               13.70\n",
      "...        ...                 ...\n",
      "1829      1830               23.00\n",
      "1830      1831               12.90\n",
      "1831      1832               13.20\n",
      "1832      1833               23.50\n",
      "1833      1834               28.75\n",
      "\n",
      "[1834 rows x 2 columns]\n"
     ]
    }
   ],
   "source": [
    "## No es lo mismo, el precio del pedido es la suma del valor item_price (no product_price) de todas las líneas agrupadas por order_id\n",
    "order_id__total_order_amount__series = chipo.groupby('order_id')['item_price_float'].sum()\n",
    "\n",
    "order_id__total_order_amount__dataframe = order_id__total_order_amount__series.reset_index() # Convert to DataFrame and reset the index\n",
    "order_id__total_order_amount__dataframe.columns = [\"order_id\", \"total_order_amount\"] ## ponemos nombre a las columnas\n",
    "\n",
    "orders_with_order_amount_greater_than_10 = order_id__total_order_amount__dataframe[order_id__total_order_amount__dataframe.total_order_amount > 10]\n",
    "print(\"Número de pedidos de más de 10 $:\", len(orders_with_order_amount_greater_than_10))\n",
    "print(orders_with_order_amount_greater_than_10)\n",
    "\n",
    "#chipo.head(10)\n",
    "\n"
   ]
  },
  {
   "cell_type": "markdown",
   "metadata": {},
   "source": [
    "### Step 4.3: Y en cuántos pedidos se ha pagado más de 10$ por un mismo producto? Es lo mismo?"
   ]
  },
  {
   "cell_type": "code",
   "execution_count": null,
   "metadata": {},
   "outputs": [
    {
     "name": "stdout",
     "output_type": "stream",
     "text": [
      "Hay 55 pedidos en los que alguna de sus líneas tiene el mismo 'item_name' y además el importe de la línea es superior a 10 dólares\n",
      "Index([  40,   93,  103,  129,  235,  343,  387,  408,  428,  462,  483,  491,\n",
      "        498,  504,  519,  635,  682,  688,  691,  734,  737,  759,  806,  810,\n",
      "        814,  856,  886,  930,  957, 1006, 1052, 1057, 1078, 1158, 1176, 1191,\n",
      "       1196, 1224, 1255, 1304, 1323, 1454, 1460, 1461, 1470, 1483, 1538, 1561,\n",
      "       1601, 1647, 1699, 1786, 1824, 1825, 1833],\n",
      "      dtype='int64', name='order_id')\n"
     ]
    }
   ],
   "source": [
    "order_lines_greater_than_10_dollars = chipo[chipo.item_price_float > 10]\n",
    "order_lines_greater_than_10_dollars_grouped_by_order_id_and_item_name = order_lines_greater_than_10_dollars.groupby([\"order_id\", \"item_name\"]).size()\n",
    "order_lines_with_repeated_item_name_of_more_than_10_dollars = order_lines_greater_than_10_dollars_grouped_by_order_id_and_item_name[order_lines_greater_than_10_dollars_grouped_by_order_id_and_item_name > 1]\n",
    "\n",
    "unique_order_ids = order_lines_with_repeated_item_name_of_more_than_10_dollars.index.get_level_values('order_id').unique()\n",
    "\n",
    "print(f\"Hay {len(unique_order_ids)} pedidos en los que alguna de sus líneas tiene el mismo 'item_name' y además el importe de la línea es superior a 10 dólares\")\n",
    "print(unique_order_ids)\n"
   ]
  },
  {
   "attachments": {},
   "cell_type": "markdown",
   "metadata": {},
   "source": [
    "### Step 5. What is the price of each item and name it unit_price. Get only item_name and unit_price"
   ]
  },
  {
   "cell_type": "code",
   "execution_count": null,
   "metadata": {},
   "outputs": [
    {
     "data": {
      "text/html": [
       "<div>\n",
       "<style scoped>\n",
       "    .dataframe tbody tr th:only-of-type {\n",
       "        vertical-align: middle;\n",
       "    }\n",
       "\n",
       "    .dataframe tbody tr th {\n",
       "        vertical-align: top;\n",
       "    }\n",
       "\n",
       "    .dataframe thead th {\n",
       "        text-align: right;\n",
       "    }\n",
       "</style>\n",
       "<table border=\"1\" class=\"dataframe\">\n",
       "  <thead>\n",
       "    <tr style=\"text-align: right;\">\n",
       "      <th></th>\n",
       "      <th>item_name</th>\n",
       "      <th>unit_price</th>\n",
       "    </tr>\n",
       "  </thead>\n",
       "  <tbody>\n",
       "    <tr>\n",
       "      <th>0</th>\n",
       "      <td>Chips and Fresh Tomato Salsa</td>\n",
       "      <td>2.39</td>\n",
       "    </tr>\n",
       "    <tr>\n",
       "      <th>1</th>\n",
       "      <td>Izze</td>\n",
       "      <td>3.39</td>\n",
       "    </tr>\n",
       "    <tr>\n",
       "      <th>2</th>\n",
       "      <td>Nantucket Nectar</td>\n",
       "      <td>3.39</td>\n",
       "    </tr>\n",
       "    <tr>\n",
       "      <th>3</th>\n",
       "      <td>Chips and Tomatillo-Green Chili Salsa</td>\n",
       "      <td>2.39</td>\n",
       "    </tr>\n",
       "    <tr>\n",
       "      <th>4</th>\n",
       "      <td>Chicken Bowl</td>\n",
       "      <td>8.49</td>\n",
       "    </tr>\n",
       "    <tr>\n",
       "      <th>...</th>\n",
       "      <td>...</td>\n",
       "      <td>...</td>\n",
       "    </tr>\n",
       "    <tr>\n",
       "      <th>4617</th>\n",
       "      <td>Steak Burrito</td>\n",
       "      <td>11.75</td>\n",
       "    </tr>\n",
       "    <tr>\n",
       "      <th>4618</th>\n",
       "      <td>Steak Burrito</td>\n",
       "      <td>11.75</td>\n",
       "    </tr>\n",
       "    <tr>\n",
       "      <th>4619</th>\n",
       "      <td>Chicken Salad Bowl</td>\n",
       "      <td>11.25</td>\n",
       "    </tr>\n",
       "    <tr>\n",
       "      <th>4620</th>\n",
       "      <td>Chicken Salad Bowl</td>\n",
       "      <td>8.75</td>\n",
       "    </tr>\n",
       "    <tr>\n",
       "      <th>4621</th>\n",
       "      <td>Chicken Salad Bowl</td>\n",
       "      <td>8.75</td>\n",
       "    </tr>\n",
       "  </tbody>\n",
       "</table>\n",
       "<p>4622 rows × 2 columns</p>\n",
       "</div>"
      ],
      "text/plain": [
       "                                  item_name  unit_price\n",
       "0              Chips and Fresh Tomato Salsa        2.39\n",
       "1                                      Izze        3.39\n",
       "2                          Nantucket Nectar        3.39\n",
       "3     Chips and Tomatillo-Green Chili Salsa        2.39\n",
       "4                              Chicken Bowl        8.49\n",
       "...                                     ...         ...\n",
       "4617                          Steak Burrito       11.75\n",
       "4618                          Steak Burrito       11.75\n",
       "4619                     Chicken Salad Bowl       11.25\n",
       "4620                     Chicken Salad Bowl        8.75\n",
       "4621                     Chicken Salad Bowl        8.75\n",
       "\n",
       "[4622 rows x 2 columns]"
      ]
     },
     "execution_count": 85,
     "metadata": {},
     "output_type": "execute_result"
    }
   ],
   "source": [
    "step5_dataframe = chipo[[\"item_name\", \"product_price_float\"]]\n",
    "step5_dataframe.columns = [\"item_name\", \"unit_price\"]\n",
    "step5_dataframe\n",
    "## Lógicamente hay item_name-s repetidos, porque por ejemplo un Chicken Salad Bowl puede tener diferentes ingredientes (choice_description), y su precio variará en función de ello"
   ]
  },
  {
   "attachments": {},
   "cell_type": "markdown",
   "metadata": {},
   "source": [
    "### Step 6. Sort by the name of the item"
   ]
  },
  {
   "cell_type": "code",
   "execution_count": null,
   "metadata": {},
   "outputs": [
    {
     "data": {
      "text/html": [
       "<div>\n",
       "<style scoped>\n",
       "    .dataframe tbody tr th:only-of-type {\n",
       "        vertical-align: middle;\n",
       "    }\n",
       "\n",
       "    .dataframe tbody tr th {\n",
       "        vertical-align: top;\n",
       "    }\n",
       "\n",
       "    .dataframe thead th {\n",
       "        text-align: right;\n",
       "    }\n",
       "</style>\n",
       "<table border=\"1\" class=\"dataframe\">\n",
       "  <thead>\n",
       "    <tr style=\"text-align: right;\">\n",
       "      <th></th>\n",
       "      <th>order_id</th>\n",
       "      <th>quantity</th>\n",
       "      <th>item_name</th>\n",
       "      <th>choice_description</th>\n",
       "      <th>item_price</th>\n",
       "      <th>item_price_float</th>\n",
       "      <th>product_price_float</th>\n",
       "    </tr>\n",
       "  </thead>\n",
       "  <tbody>\n",
       "    <tr>\n",
       "      <th>298</th>\n",
       "      <td>129</td>\n",
       "      <td>1</td>\n",
       "      <td>6 Pack Soft Drink</td>\n",
       "      <td>[Sprite]</td>\n",
       "      <td>$6.49</td>\n",
       "      <td>6.49</td>\n",
       "      <td>6.49</td>\n",
       "    </tr>\n",
       "    <tr>\n",
       "      <th>1026</th>\n",
       "      <td>422</td>\n",
       "      <td>1</td>\n",
       "      <td>6 Pack Soft Drink</td>\n",
       "      <td>[Sprite]</td>\n",
       "      <td>$6.49</td>\n",
       "      <td>6.49</td>\n",
       "      <td>6.49</td>\n",
       "    </tr>\n",
       "    <tr>\n",
       "      <th>1279</th>\n",
       "      <td>520</td>\n",
       "      <td>1</td>\n",
       "      <td>6 Pack Soft Drink</td>\n",
       "      <td>[Sprite]</td>\n",
       "      <td>$6.49</td>\n",
       "      <td>6.49</td>\n",
       "      <td>6.49</td>\n",
       "    </tr>\n",
       "    <tr>\n",
       "      <th>2374</th>\n",
       "      <td>945</td>\n",
       "      <td>1</td>\n",
       "      <td>6 Pack Soft Drink</td>\n",
       "      <td>[Sprite]</td>\n",
       "      <td>$6.49</td>\n",
       "      <td>6.49</td>\n",
       "      <td>6.49</td>\n",
       "    </tr>\n",
       "    <tr>\n",
       "      <th>3806</th>\n",
       "      <td>1525</td>\n",
       "      <td>1</td>\n",
       "      <td>6 Pack Soft Drink</td>\n",
       "      <td>[Sprite]</td>\n",
       "      <td>$6.49</td>\n",
       "      <td>6.49</td>\n",
       "      <td>6.49</td>\n",
       "    </tr>\n",
       "    <tr>\n",
       "      <th>...</th>\n",
       "      <td>...</td>\n",
       "      <td>...</td>\n",
       "      <td>...</td>\n",
       "      <td>...</td>\n",
       "      <td>...</td>\n",
       "      <td>...</td>\n",
       "      <td>...</td>\n",
       "    </tr>\n",
       "    <tr>\n",
       "      <th>2851</th>\n",
       "      <td>1132</td>\n",
       "      <td>1</td>\n",
       "      <td>Veggie Soft Tacos</td>\n",
       "      <td>[Roasted Chili Corn Salsa (Medium), [Black Bea...</td>\n",
       "      <td>$8.49</td>\n",
       "      <td>8.49</td>\n",
       "      <td>8.49</td>\n",
       "    </tr>\n",
       "    <tr>\n",
       "      <th>1699</th>\n",
       "      <td>688</td>\n",
       "      <td>1</td>\n",
       "      <td>Veggie Soft Tacos</td>\n",
       "      <td>[Fresh Tomato Salsa, [Fajita Vegetables, Rice,...</td>\n",
       "      <td>$11.25</td>\n",
       "      <td>11.25</td>\n",
       "      <td>11.25</td>\n",
       "    </tr>\n",
       "    <tr>\n",
       "      <th>781</th>\n",
       "      <td>322</td>\n",
       "      <td>1</td>\n",
       "      <td>Veggie Soft Tacos</td>\n",
       "      <td>[Fresh Tomato Salsa, [Black Beans, Cheese, Sou...</td>\n",
       "      <td>$8.75</td>\n",
       "      <td>8.75</td>\n",
       "      <td>8.75</td>\n",
       "    </tr>\n",
       "    <tr>\n",
       "      <th>1395</th>\n",
       "      <td>567</td>\n",
       "      <td>1</td>\n",
       "      <td>Veggie Soft Tacos</td>\n",
       "      <td>[Fresh Tomato Salsa (Mild), [Pinto Beans, Rice...</td>\n",
       "      <td>$8.49</td>\n",
       "      <td>8.49</td>\n",
       "      <td>8.49</td>\n",
       "    </tr>\n",
       "    <tr>\n",
       "      <th>3889</th>\n",
       "      <td>1559</td>\n",
       "      <td>2</td>\n",
       "      <td>Veggie Soft Tacos</td>\n",
       "      <td>[Fresh Tomato Salsa (Mild), [Black Beans, Rice...</td>\n",
       "      <td>$16.98</td>\n",
       "      <td>16.98</td>\n",
       "      <td>8.49</td>\n",
       "    </tr>\n",
       "  </tbody>\n",
       "</table>\n",
       "<p>4622 rows × 7 columns</p>\n",
       "</div>"
      ],
      "text/plain": [
       "      order_id  quantity          item_name  \\\n",
       "298        129         1  6 Pack Soft Drink   \n",
       "1026       422         1  6 Pack Soft Drink   \n",
       "1279       520         1  6 Pack Soft Drink   \n",
       "2374       945         1  6 Pack Soft Drink   \n",
       "3806      1525         1  6 Pack Soft Drink   \n",
       "...        ...       ...                ...   \n",
       "2851      1132         1  Veggie Soft Tacos   \n",
       "1699       688         1  Veggie Soft Tacos   \n",
       "781        322         1  Veggie Soft Tacos   \n",
       "1395       567         1  Veggie Soft Tacos   \n",
       "3889      1559         2  Veggie Soft Tacos   \n",
       "\n",
       "                                     choice_description item_price  \\\n",
       "298                                            [Sprite]     $6.49    \n",
       "1026                                           [Sprite]     $6.49    \n",
       "1279                                           [Sprite]     $6.49    \n",
       "2374                                           [Sprite]     $6.49    \n",
       "3806                                           [Sprite]     $6.49    \n",
       "...                                                 ...        ...   \n",
       "2851  [Roasted Chili Corn Salsa (Medium), [Black Bea...     $8.49    \n",
       "1699  [Fresh Tomato Salsa, [Fajita Vegetables, Rice,...    $11.25    \n",
       "781   [Fresh Tomato Salsa, [Black Beans, Cheese, Sou...     $8.75    \n",
       "1395  [Fresh Tomato Salsa (Mild), [Pinto Beans, Rice...     $8.49    \n",
       "3889  [Fresh Tomato Salsa (Mild), [Black Beans, Rice...    $16.98    \n",
       "\n",
       "      item_price_float  product_price_float  \n",
       "298               6.49                 6.49  \n",
       "1026              6.49                 6.49  \n",
       "1279              6.49                 6.49  \n",
       "2374              6.49                 6.49  \n",
       "3806              6.49                 6.49  \n",
       "...                ...                  ...  \n",
       "2851              8.49                 8.49  \n",
       "1699             11.25                11.25  \n",
       "781               8.75                 8.75  \n",
       "1395              8.49                 8.49  \n",
       "3889             16.98                 8.49  \n",
       "\n",
       "[4622 rows x 7 columns]"
      ]
     },
     "execution_count": 20,
     "metadata": {},
     "output_type": "execute_result"
    }
   ],
   "source": [
    "step6_dataframe = chipo.sort_values(by=\"item_name\")\n",
    "step6_dataframe\n",
    "\n",
    "# Si quisiéramos tener dos elementos de ordenación, con diferente \"Ascending\":\n",
    "# step6_dataframe_bis = chipo.sort_values(by=[\"item_name\", \"choice_description\"], ascending=[True, False])\n",
    "# step6_dataframe_bis"
   ]
  },
  {
   "attachments": {},
   "cell_type": "markdown",
   "metadata": {},
   "source": [
    "### Step 7. What was the quantity of the most expensive item ordered? 2 ways"
   ]
  },
  {
   "cell_type": "code",
   "execution_count": null,
   "metadata": {},
   "outputs": [
    {
     "name": "stdout",
     "output_type": "stream",
     "text": [
      "WAY 1: The quantity of the most expensive item ordered is: 15\n",
      "WAY 2: The quantity of the most expensive item ordered is: 15\n"
     ]
    }
   ],
   "source": [
    "## Way 1:\n",
    "most_expensive_item_ordered_id = chipo.item_price_float.idxmax()\n",
    "print(\"WAY 1: The quantity of the most expensive item ordered is:\", chipo.iloc[most_expensive_item_ordered_id].quantity)\n",
    "\n",
    "## Way 2:\n",
    "most_expensive_item_ordered_amount = chipo.item_price_float.max()\n",
    "most_expensive_item_ordered = chipo[chipo.item_price_float == most_expensive_item_ordered_amount]\n",
    "print(\"WAY 2: The quantity of the most expensive item ordered is:\", most_expensive_item_ordered.quantity.iloc[0])\n"
   ]
  },
  {
   "attachments": {},
   "cell_type": "markdown",
   "metadata": {},
   "source": [
    "### Step 8. How many times was a Veggie Salad Bowl ordered?"
   ]
  },
  {
   "cell_type": "code",
   "execution_count": 117,
   "metadata": {},
   "outputs": [
    {
     "name": "stdout",
     "output_type": "stream",
     "text": [
      "'Veggie Salad Bowl' was ordered in 18 different orders, for a total quantity of 18\n"
     ]
    }
   ],
   "source": [
    "order_lines_where_veggie_salad_bowl_was_ordered = chipo[chipo.item_name == \"Veggie Salad Bowl\"] \n",
    "total_veggie_salad_bowls_ordered = order_lines_where_veggie_salad_bowl_was_ordered.quantity.sum()\n",
    "\n",
    "print(f\"'Veggie Salad Bowl' was ordered in {len(order_lines_where_veggie_salad_bowl_was_ordered)} different orders, for a total quantity of {total_veggie_salad_bowls_ordered}\")"
   ]
  },
  {
   "attachments": {},
   "cell_type": "markdown",
   "metadata": {},
   "source": [
    "### Step 9. How many times did someone order more than one Canned Soda?"
   ]
  },
  {
   "cell_type": "code",
   "execution_count": 21,
   "metadata": {},
   "outputs": [
    {
     "name": "stdout",
     "output_type": "stream",
     "text": [
      "Hay 20 líneas de pedido cuya cantidad de 'Canned Soda' es mayor de 1\n",
      "Hay 9 pedidos que contienen 'Canned Soda' en más de una de sus líneas\n"
     ]
    },
    {
     "data": {
      "text/plain": [
       "order_id\n",
       "81      2\n",
       "108     3\n",
       "450     2\n",
       "496     2\n",
       "787     2\n",
       "1156    2\n",
       "1396    2\n",
       "1434    2\n",
       "1484    2\n",
       "dtype: int64"
      ]
     },
     "execution_count": 21,
     "metadata": {},
     "output_type": "execute_result"
    }
   ],
   "source": [
    "order_lines_where_canned_soda_was_ordered = chipo[chipo.item_name == \"Canned Soda\"] \n",
    "order_lines_where_canned_soda_was_ordered_with_a_qty_greater_than_one = order_lines_where_canned_soda_was_ordered[order_lines_where_canned_soda_was_ordered.quantity > 1]\n",
    "\n",
    "print(f\"Hay {len(order_lines_where_canned_soda_was_ordered_with_a_qty_greater_than_one)} líneas de pedido cuya cantidad de 'Canned Soda' es mayor de 1\")\n",
    "\n",
    "order_id__canned_soda_lines__series = order_lines_where_canned_soda_was_ordered.groupby(\"order_id\").size()\n",
    "orders_with_more_than_one_canned_soda_line = order_id__canned_soda_lines__series[order_id__canned_soda_lines__series > 1]\n",
    "\n",
    "print(f\"Hay {len(orders_with_more_than_one_canned_soda_line)} pedidos que contienen 'Canned Soda' en más de una de sus líneas\")\n",
    "orders_with_more_than_one_canned_soda_line\n",
    "\n"
   ]
  }
 ],
 "metadata": {
  "anaconda-cloud": {},
  "kernelspec": {
   "display_name": "Python 3",
   "language": "python",
   "name": "python3"
  },
  "language_info": {
   "codemirror_mode": {
    "name": "ipython",
    "version": 3
   },
   "file_extension": ".py",
   "mimetype": "text/x-python",
   "name": "python",
   "nbconvert_exporter": "python",
   "pygments_lexer": "ipython3",
   "version": "3.12.10"
  }
 },
 "nbformat": 4,
 "nbformat_minor": 4
}
