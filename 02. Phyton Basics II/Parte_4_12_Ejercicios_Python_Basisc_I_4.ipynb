{
 "cells": [
  {
   "cell_type": "markdown",
   "metadata": {
    "id": "WUHgJ9OSMGFp"
   },
   "source": [
    "![TheBridge_logo_RGB_color.jpg](attachment:TheBridge_logo_RGB_color.jpg)"
   ]
  },
  {
   "cell_type": "markdown",
   "metadata": {
    "id": "YZQvIfr6MGFr"
   },
   "source": [
    "![imagen](./img/ejercicios.png)"
   ]
  },
  {
   "cell_type": "markdown",
   "metadata": {
    "id": "L6E_aTYdMGFs"
   },
   "source": [
    "## EJERCICIOS PYTHON BASICO 4:\n",
    "## Funciones, métodos, listas"
   ]
  },
  {
   "cell_type": "markdown",
   "metadata": {
    "id": "gRBsWtpiMGFs"
   },
   "source": [
    "Completa los siguiente ejercicios, la solución completa a los mismos se publicarán en el repo del curso a lo largo del sprint. En algunos ejercicios se muestra la solución final, para que puedas comprobar que lo has hecho bien, pero lo importante es el código que generes. ¡Vaaamos, a ello...!"
   ]
  },
  {
   "cell_type": "markdown",
   "metadata": {
    "id": "nftZzHQnMGFs"
   },
   "source": [
    "![ejercicio.png](./img/ejercicio.png)\n",
    "\n",
    "## Ejercicio 1\n",
    "Para este ejercicio vamos a poner en práctica [las funciones built in](https://docs.python.org/3/library/functions.html).\n",
    "\n",
    "1. Calcula el máximo de la lista: [4, 6, 8, -1]\n",
    "2. Suma todos los elementos de la lista anterior\n",
    "3. Redondea este float a 3 dígitos decimales: 63.451256965\n",
    "4. Valor absoluto de: -74"
   ]
  },
  {
   "cell_type": "code",
   "execution_count": 4,
   "metadata": {
    "id": "eGOonYWgMGFs"
   },
   "outputs": [
    {
     "name": "stdout",
     "output_type": "stream",
     "text": [
      "1. 8\n",
      "2. 17\n",
      "3. 63.451\n",
      "4. 74\n"
     ]
    }
   ],
   "source": [
    "## 01\n",
    "print(\"1.\", max([4, 6, 8, -1]))\n",
    "\n",
    "## 02\n",
    "print(\"2.\", sum([4, 6, 8, -1]))\n",
    "\n",
    "## 03\n",
    "print(\"3.\", round(63.451256965, 3))\n",
    "\n",
    "## 04\n",
    "print(\"4.\", abs(-74))"
   ]
  },
  {
   "cell_type": "markdown",
   "metadata": {
    "id": "O3SUAjEiMGFt"
   },
   "source": [
    "![ejercicio.png](./img/ejercicio.png)\n",
    "\n",
    "## Ejercicio 2\n",
    "Para el siguiente string se pide imprimir por pantalla los siguientes casos\n",
    "\n",
    "    \"En un lugar de la Mancha, de cuyo nombre no quiero acordarme.\"\n",
    "\n",
    "1. Pásalo todo a mayúsculas\n",
    "2. Pásalo todo a minúsculas\n",
    "3. Solo la primera letra de cada palabra en mayúscula, el resto en minúscula\n",
    "4. Crea una lista dividiéndolo por sus espacios\n",
    "5. Sustituye las comas `,` por puntos y comas `;`\n",
    "6. Elimina las `a` minúsculas"
   ]
  },
  {
   "cell_type": "code",
   "execution_count": 12,
   "metadata": {
    "id": "kVQdjfnvMGFt",
    "outputId": "0e7eb7c6-8bfb-4fb9-d0d7-97f209398418"
   },
   "outputs": [
    {
     "name": "stdout",
     "output_type": "stream",
     "text": [
      "1. EN UN LUGAR DE LA MANCHA, DE CUYO NOMBRE NO QUIERO ACORDARME.\n",
      "2. en un lugar de la mancha, de cuyo nombre no quiero acordarme.\n",
      "3. En Un Lugar De La Mancha, De Cuyo Nombre No Quiero Acordarme.\n",
      "4. ['En', 'un', 'lugar', 'de', 'la', 'Mancha,', 'de', 'cuyo', 'nombre', 'no', 'quiero', 'acordarme.']\n",
      "5. En un lugar de la Mancha; de cuyo nombre no quiero acordarme.\n",
      "6. En un lugr de l Mnch, de cuyo nombre no quiero cordrme.\n"
     ]
    }
   ],
   "source": [
    "string_original = \"En un lugar de la Mancha, de cuyo nombre no quiero acordarme.\"\n",
    "\n",
    "print(\"1.\", string_original.upper())\n",
    "print(\"2.\", string_original.lower())\n",
    "print(\"3.\", string_original.title())\n",
    "print(\"4.\", string_original.split(sep=\" \"))\n",
    "print(\"5.\", string_original.replace(\",\", \";\"))\n",
    "print(\"6.\", string_original.replace(\"a\", \"\"))"
   ]
  },
  {
   "cell_type": "markdown",
   "metadata": {
    "id": "R89I1Cj_MGFt"
   },
   "source": [
    "![ejercicio.png](./img/ejercicio.png)\n",
    "\n",
    "## Ejercicio 3\n",
    "1. Crea una lista con 3 elementos numéricos\n",
    "2. Añade un cuarto elemento\n",
    "3. Calcula la suma de todos\n",
    "4. Elimina el segundo elemento de la lista\n",
    "5. Añade otro elemento en la posicion 3 de la lista\n",
    "6. Crea otra lista con 4 elementos y concaténala a la que ya tenías.\n",
    "7. Ordena la lista de menor a mayor.\n",
    "8. BONUS: Ordena la lista de mayor a menor.  \n",
    "(*PISTA: Para hacer 8, tendrás que buscar en la información del método...*)  \n",
    "  \n",
    "  \n",
    "NOTA: Pinta por pantalla el resultado de cada paso."
   ]
  },
  {
   "cell_type": "code",
   "execution_count": 21,
   "metadata": {
    "id": "EiNAvHyYMGFt",
    "outputId": "b3b4d9e4-73aa-4dd6-973b-5dad2d7344fb"
   },
   "outputs": [
    {
     "name": "stdout",
     "output_type": "stream",
     "text": [
      "1. [13, 26, 33]\n",
      "2. [13, 26, 33, 99]\n",
      "3. 171\n",
      "4. [13, 33, 99]\n",
      "5. [13, 33, 55555, 99]\n",
      "6. [13, 33, 55555, 99, 15, 745, 835, 3]\n",
      "7. [3, 13, 15, 33, 99, 745, 835, 55555]\n",
      "8. [55555, 835, 745, 99, 33, 15, 13, 3]\n"
     ]
    }
   ],
   "source": [
    "## 01\n",
    "lista = [13, 26, 33]\n",
    "print(\"1.\", lista)\n",
    "\n",
    "## 02\n",
    "lista.append(99)\n",
    "print(\"2.\", lista)\n",
    "\n",
    "## 03\n",
    "suma_de_elementos = sum(lista)\n",
    "print(\"3.\", suma_de_elementos)\n",
    "\n",
    "## 04\n",
    "lista.pop(1) ## Remove second element on a zero-indexed list\n",
    "print(\"4.\", lista)\n",
    "\n",
    "## 05\n",
    "lista.insert(2, 55555)\n",
    "print(\"5.\", lista)\n",
    "\n",
    "## 06\n",
    "otra_lista = [15, 745, 835, 3]\n",
    "lista.extend(otra_lista)\n",
    "print(\"6.\", lista)\n",
    "\n",
    "## 07\n",
    "lista.sort()\n",
    "print(\"7.\", lista)\n",
    "\n",
    "## 08\n",
    "lista.sort(reverse=True)\n",
    "print(\"8.\", lista)"
   ]
  },
  {
   "cell_type": "code",
   "execution_count": null,
   "metadata": {},
   "outputs": [],
   "source": []
  }
 ],
 "metadata": {
  "colab": {
   "provenance": []
  },
  "kernelspec": {
   "display_name": "Python 3 (ipykernel)",
   "language": "python",
   "name": "python3"
  },
  "language_info": {
   "codemirror_mode": {
    "name": "ipython",
    "version": 3
   },
   "file_extension": ".py",
   "mimetype": "text/x-python",
   "name": "python",
   "nbconvert_exporter": "python",
   "pygments_lexer": "ipython3",
   "version": "3.13.7"
  }
 },
 "nbformat": 4,
 "nbformat_minor": 4
}
