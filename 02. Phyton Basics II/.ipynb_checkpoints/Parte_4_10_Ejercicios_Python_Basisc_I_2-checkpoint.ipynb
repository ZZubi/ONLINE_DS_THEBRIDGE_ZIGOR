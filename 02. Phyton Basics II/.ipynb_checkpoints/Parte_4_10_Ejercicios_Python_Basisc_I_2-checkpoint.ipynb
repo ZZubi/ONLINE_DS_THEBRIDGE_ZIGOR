{
 "cells": [
  {
   "cell_type": "markdown",
   "metadata": {
    "id": "GB2K42EgK9q5"
   },
   "source": [
    "![TheBridge_logo_RGB_color.jpg](attachment:TheBridge_logo_RGB_color.jpg)"
   ]
  },
  {
   "cell_type": "markdown",
   "metadata": {
    "id": "GnwVlO37K9q6"
   },
   "source": [
    "![imagen](./img/ejercicios.png)"
   ]
  },
  {
   "cell_type": "markdown",
   "metadata": {
    "id": "_9pTa0PXK9q6"
   },
   "source": [
    "## EJERCICIOS PYTHON BASICO 2:\n",
    "## Tipos y conversión de tipos"
   ]
  },
  {
   "cell_type": "markdown",
   "metadata": {
    "id": "tYmV-veoK9q6"
   },
   "source": [
    "Completa los siguiente ejercicios, la solución a los mismos se publicarán en el repo del curso a lo largo del sprint"
   ]
  },
  {
   "cell_type": "markdown",
   "metadata": {
    "id": "YAdFbIOXK9q7"
   },
   "source": [
    "![ejercicio.png](./img/ejercicio.png)\n",
    "\n",
    "## Ejercicio 1\n",
    "\n",
    "1. Crea dos variables numericas: un `int` y un `float`\n",
    "2. Comprueba sus tipos\n",
    "3. Sumalas en otra nueva\n",
    "4. ¿De qué tipo es la nueva variable?\n",
    "5. Elimina las dos primeras variables creadas"
   ]
  },
  {
   "cell_type": "code",
   "execution_count": 2,
   "metadata": {
    "id": "8QZmuLOsK9q7"
   },
   "outputs": [
    {
     "name": "stdout",
     "output_type": "stream",
     "text": [
      "Tipo de variable_int: <class 'int'>\n",
      "Tipo de variable_float: <class 'float'>\n",
      "Tipo de variable_nueva: <class 'float'>\n",
      "Error al acceder a variable_int: name 'variable_int' is not defined\n",
      "Error al acceder a variable_float: name 'variable_float' is not defined\n"
     ]
    }
   ],
   "source": [
    "## 01\n",
    "variable_int = 10\n",
    "variable_float = 10.0\n",
    "\n",
    "## 02\n",
    "print(\"Tipo de variable_int:\", type(variable_int))\n",
    "print(\"Tipo de variable_float:\", type(variable_float))\n",
    "\n",
    "## 03\n",
    "variable_nueva = variable_int + variable_float\n",
    "\n",
    "## 04\n",
    "print(\"Tipo de variable_nueva:\", type(variable_nueva))\n",
    "\n",
    "## 05.01\n",
    "del variable_int\n",
    "try:\n",
    "    print(variable_int)\n",
    "except NameError as e:\n",
    "    print(\"Error al acceder a variable_int:\", e)\n",
    "\n",
    "## 05.02\n",
    "del variable_float\n",
    "try:\n",
    "    print(variable_float)\n",
    "except NameError as e:\n",
    "    print(\"Error al acceder a variable_float:\", e)"
   ]
  },
  {
   "cell_type": "markdown",
   "metadata": {
    "id": "f5xfpkpQK9q7"
   },
   "source": [
    "![ejercicio.png](./img/ejercicio.png)\n",
    "\n",
    "## Ejercicio 2\n",
    "Escribe un programa para pasar de grados a radianes. Hay que usar `input`. Recuerda que la conversión se realiza mediante\n",
    "\n",
    "radianes = grados*(pi/180)"
   ]
  },
  {
   "cell_type": "code",
   "execution_count": 14,
   "metadata": {
    "id": "V50TUQMzK9q7"
   },
   "outputs": [
    {
     "name": "stdin",
     "output_type": "stream",
     "text": [
      "Introduce grados que quieres convertir a radianes: 2,0\n"
     ]
    },
    {
     "ename": "SystemExit",
     "evalue": "la entrada debe ser un valor numérico, con '.' como separador decimal",
     "output_type": "error",
     "traceback": [
      "An exception has occurred, use %tb to see the full traceback.\n",
      "\u001b[31mSystemExit\u001b[39m\u001b[31m:\u001b[39m la entrada debe ser un valor numérico, con '.' como separador decimal\n"
     ]
    }
   ],
   "source": [
    "import sys\n",
    "import math\n",
    "\n",
    "grados_a_convertir = input(\"Introduce los grados que quieres convertir a radianes:\")\n",
    "\n",
    "try:\n",
    "    grados_a_convertir_float = float(grados_a_convertir)\n",
    "except:\n",
    "    sys.exit(\"la entrada debe ser un valor numérico, con '.' como separador decimal\")\n",
    "    \n",
    "\n",
    "resultado_en_radianes = grados_a_convertir_float * (math.pi/180)\n",
    "print(\"El resultado en radianes es:\", resultado_en_radianes)"
   ]
  },
  {
   "cell_type": "markdown",
   "metadata": {
    "id": "zX3-p58CK9q7"
   },
   "source": [
    "![ejercicio.png](./img/ejercicio.png)\n",
    "\n",
    "## Ejercicio 3\n",
    "Escribe un programa que calcule el area de un paralelogramo (base x altura). También con `input`"
   ]
  },
  {
   "cell_type": "code",
   "execution_count": 18,
   "metadata": {
    "id": "s2QfNiBAK9q7"
   },
   "outputs": [
    {
     "name": "stdin",
     "output_type": "stream",
     "text": [
      "Introduce la BASE del paralelogramo en centímetros: s\n",
      "Introduce la ALTURA del paralelogramo en centímetros: 4\n"
     ]
    },
    {
     "ename": "SystemExit",
     "evalue": "Error en el programa; verifica que los datos introducidos sean numéricos, utilizando '.' como separador decimal",
     "output_type": "error",
     "traceback": [
      "An exception has occurred, use %tb to see the full traceback.\n",
      "\u001b[31mSystemExit\u001b[39m\u001b[31m:\u001b[39m Error en el programa; verifica que los datos introducidos sean numéricos, utilizando '.' como separador decimal\n"
     ]
    }
   ],
   "source": [
    "import sys\n",
    "\n",
    "base = input(\"Introduce la BASE del paralelogramo en centímetros:\")\n",
    "altura = input(\"Introduce la ALTURA del paralelogramo en centímetros:\")\n",
    "\n",
    "try:\n",
    "    area_float = float(base) * float(altura)\n",
    "except:\n",
    "    sys.exit(\"Error en el programa; verifica que los datos introducidos sean numéricos, utilizando '.' como separador decimal\")\n",
    "    \n",
    "print(\"El area del paralelogramo es:\", area_float, \"centímetros cuadrados\")"
   ]
  },
  {
   "cell_type": "markdown",
   "metadata": {
    "id": "-6TBo_HvK9q8"
   },
   "source": [
    "![ejercicio.png](./img/ejercicio.png)\n",
    "\n",
    "## Ejercicio 4\n",
    "Escribe un programa que calcule el area de un paralelogramo (base x altura). También con `input`. En este caso debe ser capaz de admitir valores reales, con decimales, para base y altura en español. (PISTA: Recuerda que tendrás que hacer uso del método replace)"
   ]
  },
  {
   "cell_type": "code",
   "execution_count": 22,
   "metadata": {
    "id": "uzUIa1JqK9q8"
   },
   "outputs": [
    {
     "name": "stdin",
     "output_type": "stream",
     "text": [
      "Introduce la BASE del paralelogramo en centímetros: 2,3\n",
      "Introduce la ALTURA del paralelogramo en centímetros: 2,r\n"
     ]
    },
    {
     "ename": "SystemExit",
     "evalue": "Error en el programa; verifica que los datos introducidos sean numéricos",
     "output_type": "error",
     "traceback": [
      "An exception has occurred, use %tb to see the full traceback.\n",
      "\u001b[31mSystemExit\u001b[39m\u001b[31m:\u001b[39m Error en el programa; verifica que los datos introducidos sean numéricos\n"
     ]
    }
   ],
   "source": [
    "import sys\n",
    "\n",
    "base = input(\"Introduce la BASE del paralelogramo en centímetros:\").replace(\",\",\".\")\n",
    "altura = input(\"Introduce la ALTURA del paralelogramo en centímetros:\").replace(\",\",\".\")\n",
    "\n",
    "try:\n",
    "    area_float = float(base) * float(altura)\n",
    "except:\n",
    "    sys.exit(\"Error en el programa; verifica que los datos introducidos sean numéricos\")\n",
    "    \n",
    "print(\"El area del paralelogramo es:\", area_float, \"centímetros cuadrados\")"
   ]
  },
  {
   "cell_type": "markdown",
   "metadata": {
    "id": "5zKugi5iK9q8"
   },
   "source": [
    "![ejercicio.png](./img/ejercicio.png)\n",
    "\n",
    "## Ejercicio 5\n",
    "Complete el siguiente código para solicitar al usuario su nombre y su edad. Luego, calcule en qué año nació el usuario y muestre el resultado."
   ]
  },
  {
   "cell_type": "code",
   "execution_count": 23,
   "metadata": {
    "id": "LISfTnRkK9q8"
   },
   "outputs": [
    {
     "name": "stdin",
     "output_type": "stream",
     "text": [
      "¿Cuál es tu nombre?  zigor\n",
      "¿Cuál es tu edad?  41\n"
     ]
    },
    {
     "name": "stdout",
     "output_type": "stream",
     "text": [
      "zigor, naciste en el año 1984.\n"
     ]
    }
   ],
   "source": [
    "nombre = input(\"¿Cuál es tu nombre? \")\n",
    "edad = int(input(\"¿Cuál es tu edad? \"))\n",
    "año_actual = 2025  # Puedes cambiarlo según el año en curso\n",
    "año_nacimiento = año_actual - edad\n",
    "\n",
    "print(f\"{nombre}, naciste en el año {año_nacimiento}.\")\n"
   ]
  },
  {
   "cell_type": "code",
   "execution_count": null,
   "metadata": {},
   "outputs": [],
   "source": []
  }
 ],
 "metadata": {
  "colab": {
   "provenance": []
  },
  "kernelspec": {
   "display_name": "Python 3 (ipykernel)",
   "language": "python",
   "name": "python3"
  },
  "language_info": {
   "codemirror_mode": {
    "name": "ipython",
    "version": 3
   },
   "file_extension": ".py",
   "mimetype": "text/x-python",
   "name": "python",
   "nbconvert_exporter": "python",
   "pygments_lexer": "ipython3",
   "version": "3.13.7"
  }
 },
 "nbformat": 4,
 "nbformat_minor": 4
}
