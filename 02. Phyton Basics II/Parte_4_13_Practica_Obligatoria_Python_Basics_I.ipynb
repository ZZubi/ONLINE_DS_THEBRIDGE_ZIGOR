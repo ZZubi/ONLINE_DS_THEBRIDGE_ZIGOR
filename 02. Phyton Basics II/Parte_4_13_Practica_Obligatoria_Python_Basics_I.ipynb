{
 "cells": [
  {
   "cell_type": "markdown",
   "metadata": {
    "id": "BNCAebJANPxq"
   },
   "source": [
    "![TheBridge_logo_RGB_color.jpg](attachment:TheBridge_logo_RGB_color.jpg)"
   ]
  },
  {
   "cell_type": "markdown",
   "metadata": {
    "id": "A9eDZvZaNPxs"
   },
   "source": [
    "![imagen](./img/ejercicios.png)"
   ]
  },
  {
   "cell_type": "markdown",
   "metadata": {
    "id": "59zPhBxXNPxs"
   },
   "source": [
    "## PRACTICA OBLIGATORIA: PYTHON"
   ]
  },
  {
   "cell_type": "markdown",
   "metadata": {
    "id": "mv2kb1GMNPxs"
   },
   "source": [
    "* La práctica obligatoria de esta unidad consiste en dos ejercicios de programación libre a completar.   \n",
    "* Recuerda que debes subirla a tu repositorio personal antes de la sesión en vivo para que puntúe adecuadamente.  \n",
    "* Recuerda también que no es necesario que esté perfecta, sólo es necesario que se vea el esfuerzo.\n",
    "* Esta práctica se resolverá en la sesión en vivo correspondiente y la solución se publicará en el repo del curso."
   ]
  },
  {
   "cell_type": "markdown",
   "metadata": {
    "id": "Kl9JzST2NPxt"
   },
   "source": [
    "![ejercicio.png](./img/ejercicio.png)\n",
    "## PARTE I\n",
    "\n",
    "En este ejercicio debes simular un chatbot al que le haremos pedidos de pizzas.\n",
    "\n",
    "1. El chatbot tiene que saludar con un: \"Buenas tardes, bienvenido al servicio de pedido online, el precio de nuestra pizzas es de 8,95 para la familiar o de 9,90 para la mediana ¿Cuántas pizzas  familiares desea?\"\n",
    "2. El ususario tiene que introducir un número de pizzas en una variable llamada 'pizz_familiar'\n",
    "3. El chatbot debe responder: \"Estupendo, ¿cuántas pizzas medianas desea?\" y guardar el número de pizzas medianas en otra variable 'pizz_mediana'\n",
    "4. Además debe responder del chatbot: \"Estupendo, se están preparando 'pizz' pizzas familiares y 'pizz_mediana' pizzas medianas. Digame su dirección\"\n",
    "5. El ususario tiene que introducir una direccion en formato String en otra variable llamada 'direcc'\n",
    "6. El programa debe calcular el monto total\n",
    "7. Respuesta final del chatbot: \"Le mandaremos las '(número total de pizzas)' pizzas a la dirección 'direcc'. Serán <precio total a pagar en euros>. Muchas gracias por su pedido.\"\n",
    "         \n"
   ]
  },
  {
   "cell_type": "code",
   "execution_count": 14,
   "metadata": {
    "id": "qkKibyt-NPxt"
   },
   "outputs": [
    {
     "name": "stdout",
     "output_type": "stream",
     "text": [
      "Buenas tardes, bienvenido al servicio de pedido online, el precio de nuestra pizzas es de 8,95 para la familiar o de 9,90 para la mediana ¿Cuántas pizzas familiares desea?\n"
     ]
    },
    {
     "name": "stdin",
     "output_type": "stream",
     "text": [
      " 10\n"
     ]
    },
    {
     "name": "stdout",
     "output_type": "stream",
     "text": [
      "Estupendo, ¿cuántas pizzas medianas desea?\n"
     ]
    },
    {
     "name": "stdin",
     "output_type": "stream",
     "text": [
      " 1\n"
     ]
    },
    {
     "name": "stdout",
     "output_type": "stream",
     "text": [
      "Estupendo, se están preparando '10' pizzas familiares y '1' pizzas medianas. Digame su dirección\n"
     ]
    },
    {
     "name": "stdin",
     "output_type": "stream",
     "text": [
      " Calle de las cenas\n"
     ]
    },
    {
     "name": "stdout",
     "output_type": "stream",
     "text": [
      "Le mandaremos las '11' pizzas a la dirección 'Calle de las cenas'. Serán 99.4 €. Muchas gracias por su pedido.\n"
     ]
    }
   ],
   "source": [
    "import sys\n",
    "\n",
    "## 01 and 02\n",
    "print(\"Buenas tardes, bienvenido al servicio de pedido online, el precio de nuestra pizzas es de 8,95 para la familiar o de 9,90 para la mediana ¿Cuántas pizzas familiares desea?\")\n",
    "try:\n",
    "    pizz_familiar = int(input())\n",
    "    if pizz_familiar < 0:\n",
    "        raise Exception() ## just a generic exception to go to the except part\n",
    "except:\n",
    "    sys.exit(\"El valor introducido no es válido\")\n",
    "\n",
    "## 03\n",
    "print(\"Estupendo, ¿cuántas pizzas medianas desea?\")\n",
    "try:\n",
    "    pizz_mediana = int(input())\n",
    "    if pizz_mediana < 0:\n",
    "        raise Exception() ## just a generic exception to go to the except part\n",
    "except:\n",
    "    sys.exit(\"El valor introducido no es válido\")\n",
    "\n",
    "## 04 and 05\n",
    "print(f\"Estupendo, se están preparando '{pizz_familiar}' pizzas familiares y '{pizz_mediana}' pizzas medianas. Digame su dirección\")\n",
    "direcc = input()\n",
    "\n",
    "## 06\n",
    "monto_total = pizz_familiar * 8.95 + pizz_mediana * 9.9\n",
    "\n",
    "## 07\n",
    "numero_total_pizzas = pizz_familiar + pizz_mediana\n",
    "print(f\"Le mandaremos las '{numero_total_pizzas}' pizzas a la dirección '{direcc}'. Serán {monto_total} €. Muchas gracias por su pedido.\")\n",
    "\n"
   ]
  },
  {
   "cell_type": "markdown",
   "metadata": {
    "id": "f0oqoGDGNPxt"
   },
   "source": [
    "![ejercicio.png](./img/ejercicio.png)\n",
    "## Parte II\n",
    "\n",
    "Crea un programa que realice las siguientes acciones:\n",
    "\n",
    "1. Solicite al usuario que introduzca 3 números enteros separados por comas (por ejemplo: 1,2,3).\n",
    "2. Convierta esa entrada en una lista de números enteros.\n",
    "3. Utilizando funciones built-in, determine el número máximo, el número mínimo y la suma total de los números introducidos.\n",
    "4. Determine la verdad o falsedad de la siguiente afirmación: \"El número máximo menos el número mínimo es igual a la suma total dividida por 5\".\n",
    "5. Muestre los resultados utilizando print."
   ]
  },
  {
   "cell_type": "code",
   "execution_count": 20,
   "metadata": {
    "id": "rAlpWiQ9NPxt"
   },
   "outputs": [
    {
     "name": "stdin",
     "output_type": "stream",
     "text": [
      "introduzca 3 números enteros separados por comas (por ejemplo: 1,2,3): 100,100,50\n"
     ]
    },
    {
     "name": "stdout",
     "output_type": "stream",
     "text": [
      "Número máximo: 100\n",
      "Número mínimo: 50\n",
      "Suma total: 250\n",
      "El número máximo menos el número mínimo es igual a la suma total dividida por 5\n"
     ]
    }
   ],
   "source": [
    "## 01\n",
    "numeros_enteros_separados_por_comas = input(\"introduzca 3 números enteros separados por comas (por ejemplo: 1,2,3):\")\n",
    "\n",
    "## 02\n",
    "lista_numeros_enteros = [] \n",
    "for elemento in numeros_enteros_separados_por_comas.split(\",\"):\n",
    "    lista_numeros_enteros.append(int(elemento))\n",
    "\n",
    "## 03\n",
    "numero_maximo = max(lista_numeros_enteros)\n",
    "numero_minimo = min(lista_numeros_enteros)\n",
    "suma_total = sum(lista_numeros_enteros)\n",
    "print(\"Número máximo:\", numero_maximo)\n",
    "print(\"Número mínimo:\", numero_minimo)\n",
    "print(\"Suma total:\", suma_total)\n",
    "\n",
    "## 04\n",
    "if (numero_maximo - numero_minimo) == (suma_total / 5):\n",
    "    print(\"El número máximo menos el número mínimo es igual a la suma total dividida por 5\")\n",
    "else:\n",
    "    print(\"El número máximo menos el número mínimo NO es igual a la suma total dividida por 5\")"
   ]
  },
  {
   "cell_type": "code",
   "execution_count": null,
   "metadata": {},
   "outputs": [],
   "source": []
  }
 ],
 "metadata": {
  "colab": {
   "provenance": []
  },
  "kernelspec": {
   "display_name": "Python 3 (ipykernel)",
   "language": "python",
   "name": "python3"
  },
  "language_info": {
   "codemirror_mode": {
    "name": "ipython",
    "version": 3
   },
   "file_extension": ".py",
   "mimetype": "text/x-python",
   "name": "python",
   "nbconvert_exporter": "python",
   "pygments_lexer": "ipython3",
   "version": "3.13.7"
  }
 },
 "nbformat": 4,
 "nbformat_minor": 4
}
