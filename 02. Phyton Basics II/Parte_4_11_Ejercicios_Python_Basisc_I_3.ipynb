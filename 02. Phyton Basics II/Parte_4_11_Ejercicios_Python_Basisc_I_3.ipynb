{
 "cells": [
  {
   "cell_type": "markdown",
   "metadata": {
    "id": "tYGObQGFMB-U"
   },
   "source": [
    "![TheBridge_logo_RGB_color.jpg](attachment:TheBridge_logo_RGB_color.jpg)"
   ]
  },
  {
   "cell_type": "markdown",
   "metadata": {
    "id": "ucMt1pQKMB-W"
   },
   "source": [
    "![imagen](./img/ejercicios.png)"
   ]
  },
  {
   "cell_type": "markdown",
   "metadata": {
    "id": "X4aT3E3pMB-W"
   },
   "source": [
    "## EJERCICIOS PYTHON BASICO 3:\n",
    "## Operaciones matemáticas, comparación y booleanas"
   ]
  },
  {
   "cell_type": "markdown",
   "metadata": {
    "id": "_eBQmEi4MB-W"
   },
   "source": [
    "Completa los siguiente ejercicios, la solución completa a los mismos se publicarán en el repo del curso a lo largo del sprint. En algunos ejercicios se muestra la solución final, para que puedas comprobar que lo has hecho bien, pero lo importante es el código que generes. ¡Vaaamos, a ello...!"
   ]
  },
  {
   "cell_type": "markdown",
   "metadata": {
    "id": "0LJnG2IzMB-W"
   },
   "source": [
    "![ejercicio.png](./img/ejercicio.png)\n",
    "\n",
    "\n",
    "## Ejercicio 1\n",
    "Tenemos las siguientes variables:\n",
    "\n",
    "```Python\n",
    "A = 4\n",
    "B = \"Text\"\n",
    "C = 4.1\n",
    "```\n",
    "\n",
    "Comprueba:\n",
    "1. Si A y B son equivalentes\n",
    "2. Si A y C NO son equivalentes\n",
    "3. Si A es mayor que C\n",
    "4. Si C es menor o igual que A\n",
    "5. Si B NO es equivalente a C"
   ]
  },
  {
   "cell_type": "code",
   "execution_count": 6,
   "metadata": {
    "id": "KJaG4Ns_MB-X",
    "outputId": "3bd7b822-3c52-436b-e0e4-9a12509d36cc",
    "scrolled": true
   },
   "outputs": [
    {
     "name": "stdout",
     "output_type": "stream",
     "text": [
      "1. False\n",
      "2. True\n",
      "3. False\n",
      "4. False\n",
      "5. True\n"
     ]
    }
   ],
   "source": [
    "A = 4\n",
    "B = \"Text\"\n",
    "C = 4.1\n",
    "\n",
    "print(\"1.\", A == B)\n",
    "print(\"2.\", not A == C)\n",
    "print(\"3.\", A > C)\n",
    "print(\"4.\", C <= A)\n",
    "print(\"5.\", B != C)"
   ]
  },
  {
   "cell_type": "markdown",
   "metadata": {
    "id": "36qZ4UzAMB-X"
   },
   "source": [
    "![ejercicio.png](./img/ejercicio.png)\n",
    "\n",
    "## Ejercicio 2\n",
    "Crea un programa donde se recojan dos inputs del usuario, y el output del programa sea si esos inputs son iguales o no"
   ]
  },
  {
   "cell_type": "code",
   "execution_count": 9,
   "metadata": {
    "id": "67IN9GBhMB-X"
   },
   "outputs": [
    {
     "name": "stdin",
     "output_type": "stream",
     "text": [
      "Introduce un input: 1\n",
      "Introduce otro input: 1.0\n"
     ]
    },
    {
     "name": "stdout",
     "output_type": "stream",
     "text": [
      "los inputs introducidos NO son iguales\n"
     ]
    }
   ],
   "source": [
    "input_1 = input(\"Introduce un input:\")\n",
    "input_2 = input(\"Introduce otro input:\")\n",
    "\n",
    "if input_1 == input_2:\n",
    "    print(\"Los inputs introducidos son iguales\")\n",
    "else:\n",
    "    print(\"Los inputs introducidos NO son iguales\")"
   ]
  },
  {
   "cell_type": "markdown",
   "metadata": {
    "id": "91bpSSlGMB-Y"
   },
   "source": [
    "![ejercicio.png](./img/ejercicio.png)\n",
    "\n",
    "## Ejercicio 3\n",
    "Mismo programa que en 2, pero en esta ocasión tienen que ser tres inputs y dos salidas. Una de las salidas que nos indique si todos son iguales, y la otra si al menos dos inputs sí que lo son"
   ]
  },
  {
   "cell_type": "code",
   "execution_count": 12,
   "metadata": {
    "id": "YS3R_qNXMB-Y",
    "outputId": "5fa73ce3-dbe4-4034-c06f-3c151bf617dd"
   },
   "outputs": [
    {
     "name": "stdin",
     "output_type": "stream",
     "text": [
      "Introduce el primer input: 1\n",
      "Introduce el segundo input: 2\n",
      "Introduce el tercer input: 3\n"
     ]
    },
    {
     "name": "stdout",
     "output_type": "stream",
     "text": [
      "Los TRES inputs introducidos NO SON iguales\n",
      "No existen AL MENOS DOS inputs introducidos iguales\n"
     ]
    }
   ],
   "source": [
    "input_1 = input(\"Introduce el primer input:\")\n",
    "input_2 = input(\"Introduce el segundo input:\")\n",
    "input_3 = input(\"Introduce el tercer input:\")\n",
    "\n",
    "if input_1 == input_2 and input_1 == input_3 and input_2 == input_3:\n",
    "    print(\"Los TRES inputs introducidos SON iguales\")\n",
    "else:\n",
    "    print(\"Los TRES inputs introducidos NO SON iguales\")\n",
    "\n",
    "if input_1 == input_2 or input_1 == input_3 or input_2 == input_3:\n",
    "    print(\"AL MENOS DOS inputs introducidos son iguales\")\n",
    "else:\n",
    "    print(\"No existen AL MENOS DOS inputs introducidos iguales\")"
   ]
  },
  {
   "cell_type": "markdown",
   "metadata": {
    "id": "jnDrqy_PMB-Y"
   },
   "source": [
    "![ejercicio.png](./img/ejercicio.png)\n",
    "\n",
    "## Ejercicio 4\n",
    "Razona sin ejecutar código el output que obtendremos de las siguientes sentencias\n",
    "1. True and True and False\n",
    "2. not ((True or False) and (True or False))\n",
    "3. (False or False or False or True) and False\n",
    "4. not False and True and not True"
   ]
  },
  {
   "cell_type": "markdown",
   "metadata": {
    "id": "yDOV9Gj1MB-Y"
   },
   "source": [
    "1. False\n",
    "2. False\n",
    "3. False\n",
    "4. False"
   ]
  }
 ],
 "metadata": {
  "colab": {
   "provenance": []
  },
  "kernelspec": {
   "display_name": "Python 3 (ipykernel)",
   "language": "python",
   "name": "python3"
  },
  "language_info": {
   "codemirror_mode": {
    "name": "ipython",
    "version": 3
   },
   "file_extension": ".py",
   "mimetype": "text/x-python",
   "name": "python",
   "nbconvert_exporter": "python",
   "pygments_lexer": "ipython3",
   "version": "3.13.7"
  }
 },
 "nbformat": 4,
 "nbformat_minor": 4
}
